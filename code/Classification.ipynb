{
 "cells": [
  {
   "cell_type": "markdown",
   "metadata": {},
   "source": [
    "## Import libraries"
   ]
  },
  {
   "cell_type": "code",
   "execution_count": 80,
   "metadata": {
    "collapsed": false
   },
   "outputs": [],
   "source": [
    "import numpy as np\n",
    "import pandas as pd\n",
    "import scipy as sc\n",
    "import time\n",
    "import matplotlib.pyplot as plt\n",
    "%matplotlib inline"
   ]
  },
  {
   "cell_type": "code",
   "execution_count": 18,
   "metadata": {
    "collapsed": true
   },
   "outputs": [],
   "source": [
    "from sklearn.model_selection import train_test_split\n",
    "from sklearn.preprocessing import StandardScaler\n",
    "from sklearn.linear_model import LogisticRegression, LinearRegression\n",
    "from sklearn.svm import SVC\n",
    "from sklearn.ensemble import RandomForestClassifier as RFC\n",
    "from sklearn.pipeline import Pipeline\n",
    "from sklearn.model_selection import GridSearchCV\n",
    "from sklearn.metrics import accuracy_score"
   ]
  },
  {
   "cell_type": "markdown",
   "metadata": {},
   "source": [
    "## Read object-feature matrix"
   ]
  },
  {
   "cell_type": "code",
   "execution_count": 6,
   "metadata": {
    "collapsed": false
   },
   "outputs": [],
   "source": [
    "data_wisdm = pd.read_table(\"../data/WISDM/WISDM_ar_v1.1_raw_cleared.txt\", delimiter=',')\n",
    "data_wisdm.columns = ['id_user', 'activity', 'timestamp', 'x', 'y', 'z']\n",
    "\n",
    "data_uschad = pd.read_table(\"../data/USC-HAD/USC-HAD_cleared.txt\", delimiter=',')\n",
    "data_uschad.columns = ['id_user', 'activity', 'timestamp', 'x', 'y', 'z']"
   ]
  },
  {
   "cell_type": "code",
   "execution_count": 7,
   "metadata": {
    "collapsed": true
   },
   "outputs": [],
   "source": [
    "df_expert_wisdm = pd.read_csv(\"../data/features/expert_wisdm.csv\")\n",
    "df_ar_wisdm = pd.read_csv(\"../data/features/ar_wisdm.csv\")\n",
    "df_ssa_wisdm = pd.read_csv(\"../data/features/ssa_wisdm.csv\")\n",
    "df_spl_wisdm = pd.read_csv(\"../data/features/spl_wisdm_11.csv\")"
   ]
  },
  {
   "cell_type": "code",
   "execution_count": 8,
   "metadata": {
    "collapsed": true
   },
   "outputs": [],
   "source": [
    "df_expert_uschad = pd.read_csv(\"../data/features/expert_uschad.csv\")\n",
    "df_ar_uschad = pd.read_csv(\"../data/features/ar_uschad.csv\")\n",
    "df_ssa_uschad = pd.read_csv(\"../data/features/ssa_uschad.csv\")\n",
    "df_spl_uschad = pd.read_csv(\"../data/features/spl_uschad_11.csv\")"
   ]
  },
  {
   "cell_type": "markdown",
   "metadata": {},
   "source": [
    "# Classification"
   ]
  },
  {
   "cell_type": "code",
   "execution_count": 9,
   "metadata": {
    "collapsed": true
   },
   "outputs": [],
   "source": [
    "def get_internal_score(clf, X, y, max_iter=25):\n",
    "    nb = np.unique(y).shape[0]\n",
    "    scores = np.zeros(nb+1)\n",
    "    for j in range(max_iter):\n",
    "        X_train, X_test, y_train, y_test = train_test_split(X, y, test_size=0.3)\n",
    "        clf.fit(X_train, y_train)\n",
    "        y_predict = clf.predict(X_test)\n",
    "        scores[0] += accuracy_score(y_test, y_predict)\n",
    "        for i in range(nb):\n",
    "            scores[i+1] += accuracy_score(1*(np.array(y_test) == i), \n",
    "                                          1*(np.array(y_predict) == i))\n",
    "            \n",
    "    return scores / max_iter"
   ]
  },
  {
   "cell_type": "code",
   "execution_count": 10,
   "metadata": {
    "collapsed": false
   },
   "outputs": [],
   "source": [
    "def get_score(df, estimator, params_grid, test_size=0.3):\n",
    "    X = df.iloc[:, 1:].values\n",
    "    y = df['activity'].values\n",
    "    X_train, X_test, y_train, y_test = train_test_split(X, y, test_size=test_size)\n",
    "    \n",
    "    clf = GridSearchCV(estimator, params_grid)\n",
    "    clf.fit(X_train, list(y_train))\n",
    "    clf_lr = clf.best_estimator_\n",
    "    scores = get_internal_score(clf_lr, X, list(y))\n",
    "    \n",
    "    return scores"
   ]
  },
  {
   "cell_type": "markdown",
   "metadata": {},
   "source": [
    "## Testing part "
   ]
  },
  {
   "cell_type": "code",
   "execution_count": 32,
   "metadata": {
    "collapsed": false
   },
   "outputs": [],
   "source": [
    "parameters_lr = {'lr__penalty': ['l1', 'l2'], \n",
    "                 'lr__class_weight': ['balanced', None], \n",
    "                 'lr__C': 10. ** np.arange(-1, 4, 1)}\n",
    "parameters_svm = {'svc__kernel': ['rbf'], \n",
    "                  'svc__C': 10. ** np.arange(-1, 4, 1), \n",
    "                  'svc__gamma': 10. ** np.arange(-3, 2, 1),\n",
    "                  'svc__class_weight': ['balanced', None]}\n",
    "\n",
    "parameters_rf = {'n_estimators': [200], \n",
    "                 'class_weight': ['balanced', None], \n",
    "                 'max_depth': [None, 3, 5, 11]}\n",
    "\n",
    "scores_wisdm = {}\n",
    "scores_uschad = {}"
   ]
  },
  {
   "cell_type": "code",
   "execution_count": 36,
   "metadata": {
    "collapsed": false
   },
   "outputs": [],
   "source": [
    "lr_pipeline = Pipeline([('scaler', StandardScaler()), ('lr', LogisticRegression())])\n",
    "svc_pipeline = Pipeline([('scaler', StandardScaler()), ('svc', SVC())])\n",
    "rfc = RFC()"
   ]
  },
  {
   "cell_type": "markdown",
   "metadata": {},
   "source": [
    "**Expert** features:"
   ]
  },
  {
   "cell_type": "code",
   "execution_count": 37,
   "metadata": {
    "collapsed": false
   },
   "outputs": [],
   "source": [
    "scores_wisdm['lr_expert'] = get_score(df_expert_wisdm, lr_pipeline, parameters_lr)\n",
    "scores_wisdm['svm_expert'] = get_score(df_expert_wisdm, svc_pipeline, parameters_svm)\n",
    "scores_wisdm['rf_expert'] = get_score(df_expert_wisdm, rfc, parameters_rf)"
   ]
  },
  {
   "cell_type": "code",
   "execution_count": 38,
   "metadata": {
    "collapsed": true
   },
   "outputs": [],
   "source": [
    "scores_uschad['lr_expert'] = get_score(df_expert_uschad, lr_pipeline, parameters_lr)\n",
    "scores_uschad['svm_expert'] = get_score(df_expert_uschad, svc_pipeline, parameters_svm)\n",
    "scores_uschad['rf_expert'] = get_score(df_expert_uschad, rfc, parameters_rf)"
   ]
  },
  {
   "cell_type": "markdown",
   "metadata": {},
   "source": [
    "From **autoregression model** features:"
   ]
  },
  {
   "cell_type": "code",
   "execution_count": 39,
   "metadata": {
    "collapsed": false
   },
   "outputs": [],
   "source": [
    "n = 20"
   ]
  },
  {
   "cell_type": "code",
   "execution_count": 40,
   "metadata": {
    "collapsed": false
   },
   "outputs": [],
   "source": [
    "scores_wisdm['lr_ar_' + str(n)] = get_score(df_ar_wisdm, lr_pipeline, parameters_lr)\n",
    "scores_wisdm['svm_ar_' + str(n)] = get_score(df_ar_wisdm, svc_pipeline, parameters_svm)\n",
    "scores_wisdm['rf_ar_' + str(n)] = get_score(df_ar_wisdm, rfc, parameters_rf)"
   ]
  },
  {
   "cell_type": "code",
   "execution_count": 41,
   "metadata": {
    "collapsed": true
   },
   "outputs": [],
   "source": [
    "scores_uschad['lr_ar_' + str(n)] = get_score(df_ar_uschad, lr_pipeline, parameters_lr)\n",
    "scores_uschad['svm_ar_' + str(n)] = get_score(df_ar_uschad, svc_pipeline, parameters_svm)\n",
    "scores_uschad['rf_ar_' + str(n)] = get_score(df_ar_uschad, rfc, parameters_rf)"
   ]
  },
  {
   "cell_type": "markdown",
   "metadata": {},
   "source": [
    "From **spectrum analysis** features:"
   ]
  },
  {
   "cell_type": "code",
   "execution_count": 42,
   "metadata": {
    "collapsed": false
   },
   "outputs": [],
   "source": [
    "n = 20"
   ]
  },
  {
   "cell_type": "code",
   "execution_count": 43,
   "metadata": {
    "collapsed": false
   },
   "outputs": [],
   "source": [
    "scores_wisdm['lr_ssa_' + str(n)] = get_score(df_ssa_wisdm, lr_pipeline, parameters_lr)\n",
    "scores_wisdm['svm_ssa_' + str(n)] = get_score(df_ssa_wisdm, svc_pipeline, parameters_svm)\n",
    "scores_wisdm['rf_ssa_' + str(n)] = get_score(df_ssa_wisdm, rfc, parameters_rf)"
   ]
  },
  {
   "cell_type": "code",
   "execution_count": 44,
   "metadata": {
    "collapsed": true
   },
   "outputs": [],
   "source": [
    "scores_uschad['lr_ssa_' + str(n)] = get_score(df_ssa_uschad, lr_pipeline, parameters_lr)\n",
    "scores_uschad['svm_ssa_' + str(n)] = get_score(df_ssa_uschad, svc_pipeline, parameters_svm)\n",
    "scores_uschad['rf_ssa_' + str(n)] = get_score(df_ssa_uschad, rfc, parameters_rf)"
   ]
  },
  {
   "cell_type": "markdown",
   "metadata": {},
   "source": [
    "From **splines** features:"
   ]
  },
  {
   "cell_type": "code",
   "execution_count": null,
   "metadata": {
    "collapsed": true
   },
   "outputs": [],
   "source": [
    "n = 11"
   ]
  },
  {
   "cell_type": "code",
   "execution_count": null,
   "metadata": {
    "collapsed": true
   },
   "outputs": [],
   "source": [
    "scores_wisdm['lr_spl_' + str(n)] = get_score(df_spl_wisdm, LogisticRegression(), parameters_lr)\n",
    "scores_wisdm['svm_spl_' + str(n)] = get_score(df_spl_wisdm, SVC(), parameters_svm)\n",
    "scores_wisdm['rf_spl_' + str(n)] = get_score(df_spl_wisdm, RFC(), parameters_rf)"
   ]
  },
  {
   "cell_type": "code",
   "execution_count": null,
   "metadata": {
    "collapsed": true
   },
   "outputs": [],
   "source": [
    "scores_uschad['lr_spl_' + str(n)] = get_score(df_spl_uschad, LogisticRegression(), parameters_lr)\n",
    "scores_uschad['svm_spl_' + str(n)] = get_score(df_spl_uschad, SVC(), parameters_svm)\n",
    "scores_uschad['rf_spl_' + str(n)] = get_score(df_spl_uschad, RFC(), parameters_rf)"
   ]
  },
  {
   "cell_type": "markdown",
   "metadata": {},
   "source": [
    "**Features union** approach:"
   ]
  },
  {
   "cell_type": "code",
   "execution_count": 77,
   "metadata": {
    "collapsed": false
   },
   "outputs": [
    {
     "name": "stdout",
     "output_type": "stream",
     "text": [
      "((4321, 164), (13620, 164))\n"
     ]
    }
   ],
   "source": [
    "df_all_wisdm = df_expert_wisdm.join(df_ar_wisdm.iloc[:, 1:])\n",
    "df_all_wisdm = df_all_wisdm.join(df_ssa_wisdm.iloc[:, 1:])\n",
    "\n",
    "df_all_uschad = df_expert_uschad.join(df_ar_uschad.iloc[:, 1:])\n",
    "df_all_uschad = df_all_uschad.join(df_ssa_uschad.iloc[:, 1:])\n",
    "\n",
    "print(df_all_wisdm.shape, df_all_uschad.shape)"
   ]
  },
  {
   "cell_type": "code",
   "execution_count": null,
   "metadata": {
    "collapsed": false
   },
   "outputs": [
    {
     "name": "stdout",
     "output_type": "stream",
     "text": [
      "Logistic regression, all features, WISDM: 303.3561\n",
      "Support Vector Machine, all features, WISDM: 386.9076\n",
      "Random Forest, all features, WISDM: 156.0494\n"
     ]
    }
   ],
   "source": [
    "start_time = time.time()\n",
    "scores_wisdm['lr_all'] = get_score(df_all_wisdm, lr_pipeline, parameters_lr)\n",
    "print('Logistic regression, all features, WISDM: {:.4f}'.format(time.time() - start_time))\n",
    "start_time = time.time()\n",
    "scores_wisdm['svm_all'] = get_score(df_all_wisdm, svc_pipeline, parameters_svm)\n",
    "print('Support Vector Machine, all features, WISDM: {:.4f}'.format(time.time() - start_time))\n",
    "start_time = time.time()\n",
    "scores_wisdm['rf_all'] = get_score(df_all_wisdm, rfc, parameters_rf)\n",
    "print('Random Forest, all features, WISDM: {:.4f}'.format(time.time() - start_time))\n",
    "\n",
    "start_time = time.time()\n",
    "scores_uschad['lr_all'] = get_score(df_all_uschad, lr_pipeline, parameters_lr)\n",
    "print('Logistic regression, all features, USCHAD: {:.4f}'.format(time.time() - start_time))\n",
    "start_time = time.time()\n",
    "scores_uschad['svm_all'] = get_score(df_all_uschad, svc_pipeline, parameters_svm)\n",
    "print('Support Vector Machine, all features, USCHAD: {:.4f}'.format(time.time() - start_time))\n",
    "start_time = time.time()\n",
    "scores_uschad['rf_all'] = get_score(df_all_uschad, rfc, parameters_rf)\n",
    "print('Random Forest, all features, USCHAD: {:.4f}'.format(time.time() - start_time))"
   ]
  },
  {
   "cell_type": "markdown",
   "metadata": {},
   "source": [
    "## Results "
   ]
  },
  {
   "cell_type": "code",
   "execution_count": 74,
   "metadata": {
    "collapsed": false
   },
   "outputs": [],
   "source": [
    "results_wisdm = pd.DataFrame.from_dict(scores_wisdm, orient='index').sort_index()\n",
    "results_wisdm.columns = ['all'] + list(set(data_wisdm['activity']))\n",
    "results_wisdm.to_csv(\"results_wisdm_.csv\")\n",
    "\n",
    "results_uschad = pd.DataFrame.from_dict(scores_uschad, orient='index').sort_index()\n",
    "results_uschad.columns = ['all'] + list(set(data_uschad['activity']))\n",
    "results_uschad.to_csv(\"results_uschad_.csv\")"
   ]
  },
  {
   "cell_type": "code",
   "execution_count": 96,
   "metadata": {
    "collapsed": false
   },
   "outputs": [
    {
     "data": {
      "text/html": [
       "<div>\n",
       "<table border=\"1\" class=\"dataframe\">\n",
       "  <thead>\n",
       "    <tr style=\"text-align: right;\">\n",
       "      <th></th>\n",
       "      <th>all</th>\n",
       "      <th>Standing</th>\n",
       "      <th>Walking</th>\n",
       "      <th>Upstairs</th>\n",
       "      <th>Sitting</th>\n",
       "      <th>Jogging</th>\n",
       "      <th>Downstairs</th>\n",
       "    </tr>\n",
       "  </thead>\n",
       "  <tbody>\n",
       "    <tr>\n",
       "      <th>lr_all</th>\n",
       "      <td>0.952814</td>\n",
       "      <td>0.995713</td>\n",
       "      <td>0.975605</td>\n",
       "      <td>0.970455</td>\n",
       "      <td>0.996176</td>\n",
       "      <td>0.992968</td>\n",
       "      <td>0.974711</td>\n",
       "    </tr>\n",
       "    <tr>\n",
       "      <th>lr_ar_20</th>\n",
       "      <td>0.908373</td>\n",
       "      <td>0.983161</td>\n",
       "      <td>0.960247</td>\n",
       "      <td>0.950254</td>\n",
       "      <td>0.980015</td>\n",
       "      <td>0.987417</td>\n",
       "      <td>0.955652</td>\n",
       "    </tr>\n",
       "    <tr>\n",
       "      <th>lr_expert</th>\n",
       "      <td>0.854433</td>\n",
       "      <td>0.991149</td>\n",
       "      <td>0.907448</td>\n",
       "      <td>0.908867</td>\n",
       "      <td>0.990069</td>\n",
       "      <td>0.983963</td>\n",
       "      <td>0.927371</td>\n",
       "    </tr>\n",
       "    <tr>\n",
       "      <th>lr_ssa_20</th>\n",
       "      <td>0.842005</td>\n",
       "      <td>0.996268</td>\n",
       "      <td>0.861280</td>\n",
       "      <td>0.907016</td>\n",
       "      <td>0.995929</td>\n",
       "      <td>0.987695</td>\n",
       "      <td>0.935821</td>\n",
       "    </tr>\n",
       "    <tr>\n",
       "      <th>rf_all</th>\n",
       "      <td>0.934217</td>\n",
       "      <td>0.996577</td>\n",
       "      <td>0.965767</td>\n",
       "      <td>0.953863</td>\n",
       "      <td>0.996207</td>\n",
       "      <td>0.990686</td>\n",
       "      <td>0.965335</td>\n",
       "    </tr>\n",
       "    <tr>\n",
       "      <th>rf_ar_20</th>\n",
       "      <td>0.928697</td>\n",
       "      <td>0.988065</td>\n",
       "      <td>0.968697</td>\n",
       "      <td>0.956207</td>\n",
       "      <td>0.988157</td>\n",
       "      <td>0.989915</td>\n",
       "      <td>0.966353</td>\n",
       "    </tr>\n",
       "    <tr>\n",
       "      <th>rf_expert</th>\n",
       "      <td>0.932953</td>\n",
       "      <td>0.998088</td>\n",
       "      <td>0.958304</td>\n",
       "      <td>0.959322</td>\n",
       "      <td>0.997348</td>\n",
       "      <td>0.987849</td>\n",
       "      <td>0.964996</td>\n",
       "    </tr>\n",
       "    <tr>\n",
       "      <th>rf_ssa_20</th>\n",
       "      <td>0.924842</td>\n",
       "      <td>0.996638</td>\n",
       "      <td>0.947880</td>\n",
       "      <td>0.959753</td>\n",
       "      <td>0.996330</td>\n",
       "      <td>0.986307</td>\n",
       "      <td>0.962776</td>\n",
       "    </tr>\n",
       "    <tr>\n",
       "      <th>svm_all</th>\n",
       "      <td>0.974372</td>\n",
       "      <td>0.995127</td>\n",
       "      <td>0.987880</td>\n",
       "      <td>0.987510</td>\n",
       "      <td>0.994757</td>\n",
       "      <td>0.995497</td>\n",
       "      <td>0.987972</td>\n",
       "    </tr>\n",
       "    <tr>\n",
       "      <th>svm_ar_20</th>\n",
       "      <td>0.950594</td>\n",
       "      <td>0.983315</td>\n",
       "      <td>0.981311</td>\n",
       "      <td>0.979368</td>\n",
       "      <td>0.983932</td>\n",
       "      <td>0.993924</td>\n",
       "      <td>0.979337</td>\n",
       "    </tr>\n",
       "    <tr>\n",
       "      <th>svm_expert</th>\n",
       "      <td>0.927895</td>\n",
       "      <td>0.991118</td>\n",
       "      <td>0.963115</td>\n",
       "      <td>0.957533</td>\n",
       "      <td>0.991025</td>\n",
       "      <td>0.989823</td>\n",
       "      <td>0.963177</td>\n",
       "    </tr>\n",
       "    <tr>\n",
       "      <th>svm_ssa_20</th>\n",
       "      <td>0.953338</td>\n",
       "      <td>0.997995</td>\n",
       "      <td>0.976407</td>\n",
       "      <td>0.973385</td>\n",
       "      <td>0.997348</td>\n",
       "      <td>0.988497</td>\n",
       "      <td>0.973045</td>\n",
       "    </tr>\n",
       "  </tbody>\n",
       "</table>\n",
       "</div>"
      ],
      "text/plain": [
       "                 all  Standing   Walking  Upstairs   Sitting   Jogging  \\\n",
       "lr_all      0.952814  0.995713  0.975605  0.970455  0.996176  0.992968   \n",
       "lr_ar_20    0.908373  0.983161  0.960247  0.950254  0.980015  0.987417   \n",
       "lr_expert   0.854433  0.991149  0.907448  0.908867  0.990069  0.983963   \n",
       "lr_ssa_20   0.842005  0.996268  0.861280  0.907016  0.995929  0.987695   \n",
       "rf_all      0.934217  0.996577  0.965767  0.953863  0.996207  0.990686   \n",
       "rf_ar_20    0.928697  0.988065  0.968697  0.956207  0.988157  0.989915   \n",
       "rf_expert   0.932953  0.998088  0.958304  0.959322  0.997348  0.987849   \n",
       "rf_ssa_20   0.924842  0.996638  0.947880  0.959753  0.996330  0.986307   \n",
       "svm_all     0.974372  0.995127  0.987880  0.987510  0.994757  0.995497   \n",
       "svm_ar_20   0.950594  0.983315  0.981311  0.979368  0.983932  0.993924   \n",
       "svm_expert  0.927895  0.991118  0.963115  0.957533  0.991025  0.989823   \n",
       "svm_ssa_20  0.953338  0.997995  0.976407  0.973385  0.997348  0.988497   \n",
       "\n",
       "            Downstairs  \n",
       "lr_all        0.974711  \n",
       "lr_ar_20      0.955652  \n",
       "lr_expert     0.927371  \n",
       "lr_ssa_20     0.935821  \n",
       "rf_all        0.965335  \n",
       "rf_ar_20      0.966353  \n",
       "rf_expert     0.964996  \n",
       "rf_ssa_20     0.962776  \n",
       "svm_all       0.987972  \n",
       "svm_ar_20     0.979337  \n",
       "svm_expert    0.963177  \n",
       "svm_ssa_20    0.973045  "
      ]
     },
     "execution_count": 96,
     "metadata": {},
     "output_type": "execute_result"
    }
   ],
   "source": [
    "results_wisdm"
   ]
  },
  {
   "cell_type": "code",
   "execution_count": 97,
   "metadata": {
    "collapsed": false
   },
   "outputs": [
    {
     "data": {
      "text/html": [
       "<div>\n",
       "<table border=\"1\" class=\"dataframe\">\n",
       "  <thead>\n",
       "    <tr style=\"text-align: right;\">\n",
       "      <th></th>\n",
       "      <th>all</th>\n",
       "      <th>Standing</th>\n",
       "      <th>Elevator-up</th>\n",
       "      <th>Walking-forward</th>\n",
       "      <th>Sitting</th>\n",
       "      <th>Walking-downstairs</th>\n",
       "      <th>Sleeping</th>\n",
       "      <th>Elevator-down</th>\n",
       "      <th>Walking-upstairs</th>\n",
       "      <th>Jumping</th>\n",
       "      <th>Walking-right</th>\n",
       "      <th>Walking-left</th>\n",
       "      <th>Running</th>\n",
       "    </tr>\n",
       "  </thead>\n",
       "  <tbody>\n",
       "    <tr>\n",
       "      <th>lr_all</th>\n",
       "      <td>0.775585</td>\n",
       "      <td>0.961145</td>\n",
       "      <td>0.949183</td>\n",
       "      <td>0.915634</td>\n",
       "      <td>0.984121</td>\n",
       "      <td>0.968458</td>\n",
       "      <td>0.999971</td>\n",
       "      <td>0.946383</td>\n",
       "      <td>0.971336</td>\n",
       "      <td>0.997768</td>\n",
       "      <td>0.934185</td>\n",
       "      <td>0.926246</td>\n",
       "      <td>0.996740</td>\n",
       "    </tr>\n",
       "    <tr>\n",
       "      <th>lr_ar_20</th>\n",
       "      <td>0.650876</td>\n",
       "      <td>0.936495</td>\n",
       "      <td>0.944395</td>\n",
       "      <td>0.865972</td>\n",
       "      <td>0.952501</td>\n",
       "      <td>0.934998</td>\n",
       "      <td>0.979041</td>\n",
       "      <td>0.943446</td>\n",
       "      <td>0.950171</td>\n",
       "      <td>0.990631</td>\n",
       "      <td>0.904425</td>\n",
       "      <td>0.906667</td>\n",
       "      <td>0.993010</td>\n",
       "    </tr>\n",
       "    <tr>\n",
       "      <th>lr_expert</th>\n",
       "      <td>0.668135</td>\n",
       "      <td>0.936711</td>\n",
       "      <td>0.940773</td>\n",
       "      <td>0.866197</td>\n",
       "      <td>0.978708</td>\n",
       "      <td>0.950739</td>\n",
       "      <td>1.000000</td>\n",
       "      <td>0.939608</td>\n",
       "      <td>0.943857</td>\n",
       "      <td>0.992648</td>\n",
       "      <td>0.905335</td>\n",
       "      <td>0.894195</td>\n",
       "      <td>0.987499</td>\n",
       "    </tr>\n",
       "    <tr>\n",
       "      <th>lr_ssa_20</th>\n",
       "      <td>0.636750</td>\n",
       "      <td>0.923749</td>\n",
       "      <td>0.927332</td>\n",
       "      <td>0.885198</td>\n",
       "      <td>0.939726</td>\n",
       "      <td>0.931229</td>\n",
       "      <td>0.994459</td>\n",
       "      <td>0.941674</td>\n",
       "      <td>0.934635</td>\n",
       "      <td>0.996505</td>\n",
       "      <td>0.908057</td>\n",
       "      <td>0.896407</td>\n",
       "      <td>0.994528</td>\n",
       "    </tr>\n",
       "    <tr>\n",
       "      <th>rf_all</th>\n",
       "      <td>0.830602</td>\n",
       "      <td>0.970387</td>\n",
       "      <td>0.945707</td>\n",
       "      <td>0.948536</td>\n",
       "      <td>0.989819</td>\n",
       "      <td>0.979285</td>\n",
       "      <td>0.999745</td>\n",
       "      <td>0.946158</td>\n",
       "      <td>0.974547</td>\n",
       "      <td>0.997543</td>\n",
       "      <td>0.956417</td>\n",
       "      <td>0.955526</td>\n",
       "      <td>0.997533</td>\n",
       "    </tr>\n",
       "    <tr>\n",
       "      <th>rf_ar_20</th>\n",
       "      <td>0.703025</td>\n",
       "      <td>0.943651</td>\n",
       "      <td>0.946559</td>\n",
       "      <td>0.892785</td>\n",
       "      <td>0.961654</td>\n",
       "      <td>0.957709</td>\n",
       "      <td>0.981654</td>\n",
       "      <td>0.947636</td>\n",
       "      <td>0.948791</td>\n",
       "      <td>0.986314</td>\n",
       "      <td>0.921811</td>\n",
       "      <td>0.925688</td>\n",
       "      <td>0.991796</td>\n",
       "    </tr>\n",
       "    <tr>\n",
       "      <th>rf_expert</th>\n",
       "      <td>0.871229</td>\n",
       "      <td>0.975330</td>\n",
       "      <td>0.950426</td>\n",
       "      <td>0.967744</td>\n",
       "      <td>0.991826</td>\n",
       "      <td>0.986177</td>\n",
       "      <td>0.999902</td>\n",
       "      <td>0.949995</td>\n",
       "      <td>0.980822</td>\n",
       "      <td>0.998257</td>\n",
       "      <td>0.973010</td>\n",
       "      <td>0.972227</td>\n",
       "      <td>0.996740</td>\n",
       "    </tr>\n",
       "    <tr>\n",
       "      <th>rf_ssa_20</th>\n",
       "      <td>0.840147</td>\n",
       "      <td>0.966618</td>\n",
       "      <td>0.946432</td>\n",
       "      <td>0.962986</td>\n",
       "      <td>0.977230</td>\n",
       "      <td>0.980000</td>\n",
       "      <td>0.995467</td>\n",
       "      <td>0.947068</td>\n",
       "      <td>0.977592</td>\n",
       "      <td>0.997866</td>\n",
       "      <td>0.964023</td>\n",
       "      <td>0.967998</td>\n",
       "      <td>0.997014</td>\n",
       "    </tr>\n",
       "    <tr>\n",
       "      <th>svm_all</th>\n",
       "      <td>0.750387</td>\n",
       "      <td>0.953970</td>\n",
       "      <td>0.946236</td>\n",
       "      <td>0.903798</td>\n",
       "      <td>0.983505</td>\n",
       "      <td>0.965991</td>\n",
       "      <td>0.999354</td>\n",
       "      <td>0.943955</td>\n",
       "      <td>0.965198</td>\n",
       "      <td>0.995154</td>\n",
       "      <td>0.927734</td>\n",
       "      <td>0.921664</td>\n",
       "      <td>0.994214</td>\n",
       "    </tr>\n",
       "    <tr>\n",
       "      <th>svm_ar_20</th>\n",
       "      <td>0.654606</td>\n",
       "      <td>0.942770</td>\n",
       "      <td>0.943054</td>\n",
       "      <td>0.871630</td>\n",
       "      <td>0.960666</td>\n",
       "      <td>0.930269</td>\n",
       "      <td>0.976662</td>\n",
       "      <td>0.943045</td>\n",
       "      <td>0.947234</td>\n",
       "      <td>0.989271</td>\n",
       "      <td>0.901419</td>\n",
       "      <td>0.906853</td>\n",
       "      <td>0.996339</td>\n",
       "    </tr>\n",
       "    <tr>\n",
       "      <th>svm_expert</th>\n",
       "      <td>0.797279</td>\n",
       "      <td>0.945022</td>\n",
       "      <td>0.934087</td>\n",
       "      <td>0.945717</td>\n",
       "      <td>0.978326</td>\n",
       "      <td>0.980323</td>\n",
       "      <td>0.999491</td>\n",
       "      <td>0.932658</td>\n",
       "      <td>0.977425</td>\n",
       "      <td>0.997827</td>\n",
       "      <td>0.956828</td>\n",
       "      <td>0.950514</td>\n",
       "      <td>0.996339</td>\n",
       "    </tr>\n",
       "    <tr>\n",
       "      <th>svm_ssa_20</th>\n",
       "      <td>0.822320</td>\n",
       "      <td>0.974596</td>\n",
       "      <td>0.940108</td>\n",
       "      <td>0.971375</td>\n",
       "      <td>0.985179</td>\n",
       "      <td>0.980460</td>\n",
       "      <td>0.999540</td>\n",
       "      <td>0.939393</td>\n",
       "      <td>0.983035</td>\n",
       "      <td>0.970005</td>\n",
       "      <td>0.974440</td>\n",
       "      <td>0.973784</td>\n",
       "      <td>0.952726</td>\n",
       "    </tr>\n",
       "  </tbody>\n",
       "</table>\n",
       "</div>"
      ],
      "text/plain": [
       "                 all  Standing  Elevator-up  Walking-forward   Sitting  \\\n",
       "lr_all      0.775585  0.961145     0.949183         0.915634  0.984121   \n",
       "lr_ar_20    0.650876  0.936495     0.944395         0.865972  0.952501   \n",
       "lr_expert   0.668135  0.936711     0.940773         0.866197  0.978708   \n",
       "lr_ssa_20   0.636750  0.923749     0.927332         0.885198  0.939726   \n",
       "rf_all      0.830602  0.970387     0.945707         0.948536  0.989819   \n",
       "rf_ar_20    0.703025  0.943651     0.946559         0.892785  0.961654   \n",
       "rf_expert   0.871229  0.975330     0.950426         0.967744  0.991826   \n",
       "rf_ssa_20   0.840147  0.966618     0.946432         0.962986  0.977230   \n",
       "svm_all     0.750387  0.953970     0.946236         0.903798  0.983505   \n",
       "svm_ar_20   0.654606  0.942770     0.943054         0.871630  0.960666   \n",
       "svm_expert  0.797279  0.945022     0.934087         0.945717  0.978326   \n",
       "svm_ssa_20  0.822320  0.974596     0.940108         0.971375  0.985179   \n",
       "\n",
       "            Walking-downstairs  Sleeping  Elevator-down  Walking-upstairs  \\\n",
       "lr_all                0.968458  0.999971       0.946383          0.971336   \n",
       "lr_ar_20              0.934998  0.979041       0.943446          0.950171   \n",
       "lr_expert             0.950739  1.000000       0.939608          0.943857   \n",
       "lr_ssa_20             0.931229  0.994459       0.941674          0.934635   \n",
       "rf_all                0.979285  0.999745       0.946158          0.974547   \n",
       "rf_ar_20              0.957709  0.981654       0.947636          0.948791   \n",
       "rf_expert             0.986177  0.999902       0.949995          0.980822   \n",
       "rf_ssa_20             0.980000  0.995467       0.947068          0.977592   \n",
       "svm_all               0.965991  0.999354       0.943955          0.965198   \n",
       "svm_ar_20             0.930269  0.976662       0.943045          0.947234   \n",
       "svm_expert            0.980323  0.999491       0.932658          0.977425   \n",
       "svm_ssa_20            0.980460  0.999540       0.939393          0.983035   \n",
       "\n",
       "             Jumping  Walking-right  Walking-left   Running  \n",
       "lr_all      0.997768       0.934185      0.926246  0.996740  \n",
       "lr_ar_20    0.990631       0.904425      0.906667  0.993010  \n",
       "lr_expert   0.992648       0.905335      0.894195  0.987499  \n",
       "lr_ssa_20   0.996505       0.908057      0.896407  0.994528  \n",
       "rf_all      0.997543       0.956417      0.955526  0.997533  \n",
       "rf_ar_20    0.986314       0.921811      0.925688  0.991796  \n",
       "rf_expert   0.998257       0.973010      0.972227  0.996740  \n",
       "rf_ssa_20   0.997866       0.964023      0.967998  0.997014  \n",
       "svm_all     0.995154       0.927734      0.921664  0.994214  \n",
       "svm_ar_20   0.989271       0.901419      0.906853  0.996339  \n",
       "svm_expert  0.997827       0.956828      0.950514  0.996339  \n",
       "svm_ssa_20  0.970005       0.974440      0.973784  0.952726  "
      ]
     },
     "execution_count": 97,
     "metadata": {},
     "output_type": "execute_result"
    }
   ],
   "source": [
    "results_uschad"
   ]
  },
  {
   "cell_type": "code",
   "execution_count": null,
   "metadata": {
    "collapsed": true
   },
   "outputs": [],
   "source": []
  }
 ],
 "metadata": {
  "anaconda-cloud": {},
  "kernelspec": {
   "display_name": "Python [default]",
   "language": "python",
   "name": "python2"
  },
  "language_info": {
   "codemirror_mode": {
    "name": "ipython",
    "version": 2
   },
   "file_extension": ".py",
   "mimetype": "text/x-python",
   "name": "python",
   "nbconvert_exporter": "python",
   "pygments_lexer": "ipython2",
   "version": "2.7.12"
  }
 },
 "nbformat": 4,
 "nbformat_minor": 2
}

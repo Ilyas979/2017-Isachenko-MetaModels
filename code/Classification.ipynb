{
 "cells": [
  {
   "cell_type": "markdown",
   "metadata": {},
   "source": [
    "## Import libraries"
   ]
  },
  {
   "cell_type": "code",
   "execution_count": 1,
   "metadata": {
    "collapsed": false
   },
   "outputs": [],
   "source": [
    "import numpy as np\n",
    "import pandas as pd\n",
    "import scipy as sc\n",
    "import matplotlib.pyplot as plt\n",
    "%matplotlib inline"
   ]
  },
  {
   "cell_type": "code",
   "execution_count": 9,
   "metadata": {
    "collapsed": true
   },
   "outputs": [],
   "source": [
    "from sklearn.model_selection import train_test_split\n",
    "from sklearn.linear_model import LogisticRegression, LinearRegression\n",
    "from sklearn.svm import SVC\n",
    "from sklearn.ensemble import RandomForestClassifier as RFC\n",
    "from sklearn.model_selection import GridSearchCV\n",
    "from sklearn.metrics import accuracy_score"
   ]
  },
  {
   "cell_type": "markdown",
   "metadata": {},
   "source": [
    "## Read object-feature matrix"
   ]
  },
  {
   "cell_type": "code",
   "execution_count": 3,
   "metadata": {
    "collapsed": true
   },
   "outputs": [],
   "source": [
    "df_expert_wisdm = pd.read_csv(\"../data/features/expert_wisdm.csv\")\n",
    "df_ar_wisdm = pd.read_csv(\"../data/features/ar_wisdm.csv\")\n",
    "df_ssa_wisdm = pd.read_csv(\"../data/features/ssa_wisdm.csv\")"
   ]
  },
  {
   "cell_type": "code",
   "execution_count": 4,
   "metadata": {
    "collapsed": true
   },
   "outputs": [],
   "source": [
    "df_expert_uschad = pd.read_csv(\"../data/features/expert_uschad.csv\")\n",
    "df_ar_uschad = pd.read_csv(\"../data/features/ar_uschad.csv\")\n",
    "df_ssa_uschad = pd.read_csv(\"../data/features/ssa_uschad.csv\")"
   ]
  },
  {
   "cell_type": "markdown",
   "metadata": {},
   "source": [
    "# Classification"
   ]
  },
  {
   "cell_type": "code",
   "execution_count": 39,
   "metadata": {
    "collapsed": true
   },
   "outputs": [],
   "source": [
    "def get_internal_score(clf, X, y, max_iter=25):\n",
    "    nb = np.unique(y).shape[0]\n",
    "    scores = np.zeros(nb+1)\n",
    "    for j in range(max_iter):\n",
    "        X_train, X_test, y_train, y_test = train_test_split(X, y, test_size=0.3)\n",
    "        clf.fit(X_train, y_train)\n",
    "        y_predict = clf.predict(X_test)\n",
    "        scores[0] += accuracy_score(y_test, y_predict)\n",
    "        for i in range(nb):\n",
    "            scores[i+1] += accuracy_score(1*(np.array(y_test) == i), \n",
    "                                          1*(np.array(y_predict) == i))\n",
    "            \n",
    "    return scores / max_iter"
   ]
  },
  {
   "cell_type": "code",
   "execution_count": 40,
   "metadata": {
    "collapsed": false
   },
   "outputs": [],
   "source": [
    "def get_score(df, estimator, params_grid, test_size=0.3):\n",
    "    X = df.iloc[:, 1:].values\n",
    "    y = df['activity'].values\n",
    "    X_train, X_test, y_train, y_test = train_test_split(X, y, test_size=test_size)\n",
    "    \n",
    "    clf = GridSearchCV(estimator, params_grid)\n",
    "    clf.fit(X_train, list(y_train))\n",
    "    clf_lr = clf.best_estimator_\n",
    "    scores = get_internal_score(clf_lr, X, list(y))\n",
    "    \n",
    "    return scores"
   ]
  },
  {
   "cell_type": "markdown",
   "metadata": {},
   "source": [
    "## Testing part "
   ]
  },
  {
   "cell_type": "code",
   "execution_count": 27,
   "metadata": {
    "collapsed": false
   },
   "outputs": [],
   "source": [
    "parameters_lr = {'penalty': ['l1', 'l2'], \n",
    "                 'class_weight': ['balanced', None], \n",
    "                 'C': 10. ** np.arange(-1, 4, 1)}\n",
    "parameters_svm = {'kernel': ['rbf'], \n",
    "                  'C': 10. ** np.arange(-1, 4, 1), \n",
    "                  'gamma': 10. ** np.arange(-3, 2, 1),\n",
    "                  'class_weight': ['balanced', None]}\n",
    "\n",
    "parameters_rf = {'n_estimators': [200], \n",
    "                 'class_weight': ['balanced', None], \n",
    "                 'max_depth': [None, 3, 5, 11]}\n",
    "\n",
    "scores_wisdm = {}\n",
    "scores_uschad = {}"
   ]
  },
  {
   "cell_type": "markdown",
   "metadata": {},
   "source": [
    "**Expert** features:"
   ]
  },
  {
   "cell_type": "code",
   "execution_count": null,
   "metadata": {
    "collapsed": false
   },
   "outputs": [],
   "source": [
    "scores_wisdm['lr_expert'] = get_score(df_expert_wisdm, LogisticRegression(), parameters_lr)\n",
    "scores_wisdm['svm_expert'] = get_score(df_expert_wisdm, SVC(), parameters_svm)\n",
    "scores_wisdm['rf_expert'] = get_score(df_expert_wisdm, RFC(), parameters_rf)"
   ]
  },
  {
   "cell_type": "code",
   "execution_count": null,
   "metadata": {
    "collapsed": true
   },
   "outputs": [],
   "source": [
    "scores_uschad['lr_expert'] = get_score(df_expert_uschad, LogisticRegression(), parameters_lr)\n",
    "scores_uschad['svm_expert'] = get_score(df_expert_uschad, SVC(), parameters_svm)\n",
    "scores_uschad['rf_expert'] = get_score(df_expert_uschad, RFC(), parameters_rf)"
   ]
  },
  {
   "cell_type": "markdown",
   "metadata": {},
   "source": [
    "From **autoregression model** features:"
   ]
  },
  {
   "cell_type": "code",
   "execution_count": null,
   "metadata": {
    "collapsed": false
   },
   "outputs": [],
   "source": [
    "n = 20"
   ]
  },
  {
   "cell_type": "code",
   "execution_count": null,
   "metadata": {
    "collapsed": false
   },
   "outputs": [],
   "source": [
    "scores_wisdm['lr_ar_' + str(n)] = get_score(df_ar_wisdm, LogisticRegression(), parameters_lr)\n",
    "scores_wisdm['svm_ar_' + str(n)] = get_score(df_ar_wisdm, SVC(), parameters_svm)\n",
    "scores_wisdm['rf_ar_' + str(n)] = get_score(df_ar_wisdm, RFC(), parameters_rf)"
   ]
  },
  {
   "cell_type": "code",
   "execution_count": null,
   "metadata": {
    "collapsed": true
   },
   "outputs": [],
   "source": [
    "scores_uschad['lr_ar_' + str(n)] = get_score(df_ar_uschad, LogisticRegression(), parameters_lr)\n",
    "scores_uschad['svm_ar_' + str(n)] = get_score(df_ar_uschad, SVC(), parameters_svm)\n",
    "scores_uschad['rf_ar_' + str(n)] = get_score(df_ar_uschad, RFC(), parameters_rf)"
   ]
  },
  {
   "cell_type": "markdown",
   "metadata": {},
   "source": [
    "From **spectrum analysis** features:"
   ]
  },
  {
   "cell_type": "code",
   "execution_count": null,
   "metadata": {
    "collapsed": false
   },
   "outputs": [],
   "source": [
    "n = 20"
   ]
  },
  {
   "cell_type": "code",
   "execution_count": null,
   "metadata": {
    "collapsed": false
   },
   "outputs": [],
   "source": [
    "scores_wisdm['lr_ssa_' + str(n)] = get_score(df_ssa_wisdm, LogisticRegression(), parameters_lr)\n",
    "scores_wisdm['svm_ssa_' + str(n)] = get_score(df_ssa_wisdm, SVC(), parameters_svm)\n",
    "scores_wisdm['rf_ssa_' + str(n)] = get_score(df_ssa_wisdm, RFC(), parameters_rf)"
   ]
  },
  {
   "cell_type": "code",
   "execution_count": null,
   "metadata": {
    "collapsed": true
   },
   "outputs": [],
   "source": [
    "scores_uschad['lr_ssa_' + str(n)] = get_score(df_ssa_uschad, LogisticRegression(), parameters_lr)\n",
    "scores_uschad['svm_ssa_' + str(n)] = get_score(df_ssa_uschad, SVC(), parameters_svm)\n",
    "scores_uschad['rf_ssa_' + str(n)] = get_score(df_ssa_uschad, RFC(), parameters_rf)"
   ]
  },
  {
   "cell_type": "markdown",
   "metadata": {},
   "source": [
    "## Results "
   ]
  },
  {
   "cell_type": "code",
   "execution_count": null,
   "metadata": {
    "collapsed": false
   },
   "outputs": [],
   "source": [
    "results_wisdm = pd.DataFrame.from_dict(scores_wisdm, orient='index')\n",
    "results_wisdm.columns = ['all'] + list(set(data_wisdm['activity']))\n",
    "results_wisdm.to_csv(\"results_wisdm.csv\", index=False)\n",
    "\n",
    "results_uschad = pd.DataFrame.from_dict(scores_uschad, orient='index')\n",
    "results_uschad.columns = ['all'] + list(set(data_uschad['activity']))\n",
    "results_uschad.to_csv(\"results_uschad.csv\", index=False)"
   ]
  },
  {
   "cell_type": "code",
   "execution_count": null,
   "metadata": {
    "collapsed": true
   },
   "outputs": [],
   "source": [
    "results_wisdm"
   ]
  },
  {
   "cell_type": "code",
   "execution_count": null,
   "metadata": {
    "collapsed": true
   },
   "outputs": [],
   "source": [
    "results_uschad"
   ]
  },
  {
   "cell_type": "code",
   "execution_count": null,
   "metadata": {
    "collapsed": true
   },
   "outputs": [],
   "source": []
  }
 ],
 "metadata": {
  "anaconda-cloud": {},
  "kernelspec": {
   "display_name": "Python [default]",
   "language": "python",
   "name": "python2"
  },
  "language_info": {
   "codemirror_mode": {
    "name": "ipython",
    "version": 2
   },
   "file_extension": ".py",
   "mimetype": "text/x-python",
   "name": "python",
   "nbconvert_exporter": "python",
   "pygments_lexer": "ipython2",
   "version": "2.7.12"
  }
 },
 "nbformat": 4,
 "nbformat_minor": 2
}

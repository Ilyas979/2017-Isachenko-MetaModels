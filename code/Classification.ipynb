{
 "cells": [
  {
   "cell_type": "markdown",
   "metadata": {},
   "source": [
    "## Import libraries"
   ]
  },
  {
   "cell_type": "code",
   "execution_count": 1,
   "metadata": {
    "collapsed": false
   },
   "outputs": [],
   "source": [
    "import numpy as np\n",
    "import pandas as pd\n",
    "import scipy as sc\n",
    "import matplotlib.pyplot as plt\n",
    "%matplotlib inline"
   ]
  },
  {
   "cell_type": "code",
   "execution_count": 9,
   "metadata": {
    "collapsed": true
   },
   "outputs": [],
   "source": [
    "from sklearn.model_selection import train_test_split\n",
    "from sklearn.linear_model import LogisticRegression, LinearRegression\n",
    "from sklearn.svm import SVC\n",
    "from sklearn.ensemble import RandomForestClassifier as RFC\n",
    "from sklearn.model_selection import GridSearchCV\n",
    "from sklearn.metrics import accuracy_score"
   ]
  },
  {
   "cell_type": "markdown",
   "metadata": {},
   "source": [
    "## Read object-feature matrix"
   ]
  },
  {
   "cell_type": "code",
   "execution_count": 51,
   "metadata": {
    "collapsed": false
   },
   "outputs": [],
   "source": [
    "data_wisdm = pd.read_table(\"../data/WISDM/WISDM_ar_v1.1_raw_cleared.txt\", delimiter=',')\n",
    "data_wisdm.columns = ['id_user', 'activity', 'timestamp', 'x', 'y', 'z']\n",
    "\n",
    "data_uschad = pd.read_table(\"../data/USC-HAD/USC-HAD_cleared.txt\", delimiter=',')\n",
    "data_uschad.columns = ['id_user', 'activity', 'timestamp', 'x', 'y', 'z']"
   ]
  },
  {
   "cell_type": "code",
   "execution_count": 3,
   "metadata": {
    "collapsed": true
   },
   "outputs": [],
   "source": [
    "df_expert_wisdm = pd.read_csv(\"../data/features/expert_wisdm.csv\")\n",
    "df_ar_wisdm = pd.read_csv(\"../data/features/ar_wisdm.csv\")\n",
    "df_ssa_wisdm = pd.read_csv(\"../data/features/ssa_wisdm.csv\")"
   ]
  },
  {
   "cell_type": "code",
   "execution_count": 4,
   "metadata": {
    "collapsed": true
   },
   "outputs": [],
   "source": [
    "df_expert_uschad = pd.read_csv(\"../data/features/expert_uschad.csv\")\n",
    "df_ar_uschad = pd.read_csv(\"../data/features/ar_uschad.csv\")\n",
    "df_ssa_uschad = pd.read_csv(\"../data/features/ssa_uschad.csv\")"
   ]
  },
  {
   "cell_type": "markdown",
   "metadata": {},
   "source": [
    "# Classification"
   ]
  },
  {
   "cell_type": "code",
   "execution_count": 39,
   "metadata": {
    "collapsed": true
   },
   "outputs": [],
   "source": [
    "def get_internal_score(clf, X, y, max_iter=25):\n",
    "    nb = np.unique(y).shape[0]\n",
    "    scores = np.zeros(nb+1)\n",
    "    for j in range(max_iter):\n",
    "        X_train, X_test, y_train, y_test = train_test_split(X, y, test_size=0.3)\n",
    "        clf.fit(X_train, y_train)\n",
    "        y_predict = clf.predict(X_test)\n",
    "        scores[0] += accuracy_score(y_test, y_predict)\n",
    "        for i in range(nb):\n",
    "            scores[i+1] += accuracy_score(1*(np.array(y_test) == i), \n",
    "                                          1*(np.array(y_predict) == i))\n",
    "            \n",
    "    return scores / max_iter"
   ]
  },
  {
   "cell_type": "code",
   "execution_count": 40,
   "metadata": {
    "collapsed": false
   },
   "outputs": [],
   "source": [
    "def get_score(df, estimator, params_grid, test_size=0.3):\n",
    "    X = df.iloc[:, 1:].values\n",
    "    y = df['activity'].values\n",
    "    X_train, X_test, y_train, y_test = train_test_split(X, y, test_size=test_size)\n",
    "    \n",
    "    clf = GridSearchCV(estimator, params_grid)\n",
    "    clf.fit(X_train, list(y_train))\n",
    "    clf_lr = clf.best_estimator_\n",
    "    scores = get_internal_score(clf_lr, X, list(y))\n",
    "    \n",
    "    return scores"
   ]
  },
  {
   "cell_type": "markdown",
   "metadata": {},
   "source": [
    "## Testing part "
   ]
  },
  {
   "cell_type": "code",
   "execution_count": 27,
   "metadata": {
    "collapsed": false
   },
   "outputs": [],
   "source": [
    "parameters_lr = {'penalty': ['l1', 'l2'], \n",
    "                 'class_weight': ['balanced', None], \n",
    "                 'C': 10. ** np.arange(-1, 4, 1)}\n",
    "parameters_svm = {'kernel': ['rbf'], \n",
    "                  'C': 10. ** np.arange(-1, 4, 1), \n",
    "                  'gamma': 10. ** np.arange(-3, 2, 1),\n",
    "                  'class_weight': ['balanced', None]}\n",
    "\n",
    "parameters_rf = {'n_estimators': [200], \n",
    "                 'class_weight': ['balanced', None], \n",
    "                 'max_depth': [None, 3, 5, 11]}\n",
    "\n",
    "scores_wisdm = {}\n",
    "scores_uschad = {}"
   ]
  },
  {
   "cell_type": "markdown",
   "metadata": {},
   "source": [
    "**Expert** features:"
   ]
  },
  {
   "cell_type": "code",
   "execution_count": 41,
   "metadata": {
    "collapsed": false
   },
   "outputs": [],
   "source": [
    "scores_wisdm['lr_expert'] = get_score(df_expert_wisdm, LogisticRegression(), parameters_lr)\n",
    "scores_wisdm['svm_expert'] = get_score(df_expert_wisdm, SVC(), parameters_svm)\n",
    "scores_wisdm['rf_expert'] = get_score(df_expert_wisdm, RFC(), parameters_rf)"
   ]
  },
  {
   "cell_type": "code",
   "execution_count": 42,
   "metadata": {
    "collapsed": true
   },
   "outputs": [],
   "source": [
    "scores_uschad['lr_expert'] = get_score(df_expert_uschad, LogisticRegression(), parameters_lr)\n",
    "scores_uschad['svm_expert'] = get_score(df_expert_uschad, SVC(), parameters_svm)\n",
    "scores_uschad['rf_expert'] = get_score(df_expert_uschad, RFC(), parameters_rf)"
   ]
  },
  {
   "cell_type": "markdown",
   "metadata": {},
   "source": [
    "From **autoregression model** features:"
   ]
  },
  {
   "cell_type": "code",
   "execution_count": 43,
   "metadata": {
    "collapsed": false
   },
   "outputs": [],
   "source": [
    "n = 20"
   ]
  },
  {
   "cell_type": "code",
   "execution_count": 44,
   "metadata": {
    "collapsed": false
   },
   "outputs": [],
   "source": [
    "scores_wisdm['lr_ar_' + str(n)] = get_score(df_ar_wisdm, LogisticRegression(), parameters_lr)\n",
    "scores_wisdm['svm_ar_' + str(n)] = get_score(df_ar_wisdm, SVC(), parameters_svm)\n",
    "scores_wisdm['rf_ar_' + str(n)] = get_score(df_ar_wisdm, RFC(), parameters_rf)"
   ]
  },
  {
   "cell_type": "code",
   "execution_count": 45,
   "metadata": {
    "collapsed": true
   },
   "outputs": [],
   "source": [
    "scores_uschad['lr_ar_' + str(n)] = get_score(df_ar_uschad, LogisticRegression(), parameters_lr)\n",
    "scores_uschad['svm_ar_' + str(n)] = get_score(df_ar_uschad, SVC(), parameters_svm)\n",
    "scores_uschad['rf_ar_' + str(n)] = get_score(df_ar_uschad, RFC(), parameters_rf)"
   ]
  },
  {
   "cell_type": "markdown",
   "metadata": {},
   "source": [
    "From **spectrum analysis** features:"
   ]
  },
  {
   "cell_type": "code",
   "execution_count": 46,
   "metadata": {
    "collapsed": false
   },
   "outputs": [],
   "source": [
    "n = 20"
   ]
  },
  {
   "cell_type": "code",
   "execution_count": 47,
   "metadata": {
    "collapsed": false
   },
   "outputs": [],
   "source": [
    "scores_wisdm['lr_ssa_' + str(n)] = get_score(df_ssa_wisdm, LogisticRegression(), parameters_lr)\n",
    "scores_wisdm['svm_ssa_' + str(n)] = get_score(df_ssa_wisdm, SVC(), parameters_svm)\n",
    "scores_wisdm['rf_ssa_' + str(n)] = get_score(df_ssa_wisdm, RFC(), parameters_rf)"
   ]
  },
  {
   "cell_type": "code",
   "execution_count": 48,
   "metadata": {
    "collapsed": true
   },
   "outputs": [],
   "source": [
    "scores_uschad['lr_ssa_' + str(n)] = get_score(df_ssa_uschad, LogisticRegression(), parameters_lr)\n",
    "scores_uschad['svm_ssa_' + str(n)] = get_score(df_ssa_uschad, SVC(), parameters_svm)\n",
    "scores_uschad['rf_ssa_' + str(n)] = get_score(df_ssa_uschad, RFC(), parameters_rf)"
   ]
  },
  {
   "cell_type": "markdown",
   "metadata": {},
   "source": [
    "## Results "
   ]
  },
  {
   "cell_type": "code",
   "execution_count": 55,
   "metadata": {
    "collapsed": false
   },
   "outputs": [],
   "source": [
    "results_wisdm = pd.DataFrame.from_dict(scores_wisdm, orient='index')\n",
    "results_wisdm.columns = ['all'] + list(set(data_wisdm['activity']))\n",
    "results_wisdm.to_csv(\"results_wisdm.csv\")\n",
    "\n",
    "results_uschad = pd.DataFrame.from_dict(scores_uschad, orient='index')\n",
    "results_uschad.columns = ['all'] + list(set(data_uschad['activity']))\n",
    "results_uschad.to_csv(\"results_uschad.csv\")"
   ]
  },
  {
   "cell_type": "code",
   "execution_count": 53,
   "metadata": {
    "collapsed": false
   },
   "outputs": [
    {
     "data": {
      "text/html": [
       "<div>\n",
       "<table border=\"1\" class=\"dataframe\">\n",
       "  <thead>\n",
       "    <tr style=\"text-align: right;\">\n",
       "      <th></th>\n",
       "      <th>all</th>\n",
       "      <th>Standing</th>\n",
       "      <th>Walking</th>\n",
       "      <th>Upstairs</th>\n",
       "      <th>Sitting</th>\n",
       "      <th>Jogging</th>\n",
       "      <th>Downstairs</th>\n",
       "    </tr>\n",
       "  </thead>\n",
       "  <tbody>\n",
       "    <tr>\n",
       "      <th>lr_ssa_20</th>\n",
       "      <td>0.841110</td>\n",
       "      <td>0.995960</td>\n",
       "      <td>0.865752</td>\n",
       "      <td>0.903315</td>\n",
       "      <td>0.995898</td>\n",
       "      <td>0.985505</td>\n",
       "      <td>0.935790</td>\n",
       "    </tr>\n",
       "    <tr>\n",
       "      <th>lr_expert</th>\n",
       "      <td>0.855513</td>\n",
       "      <td>0.991981</td>\n",
       "      <td>0.893816</td>\n",
       "      <td>0.910625</td>\n",
       "      <td>0.990902</td>\n",
       "      <td>0.984456</td>\n",
       "      <td>0.939244</td>\n",
       "    </tr>\n",
       "    <tr>\n",
       "      <th>lr_ar_20</th>\n",
       "      <td>0.910224</td>\n",
       "      <td>0.983130</td>\n",
       "      <td>0.960524</td>\n",
       "      <td>0.951056</td>\n",
       "      <td>0.980817</td>\n",
       "      <td>0.987633</td>\n",
       "      <td>0.957286</td>\n",
       "    </tr>\n",
       "    <tr>\n",
       "      <th>svm_ar_20</th>\n",
       "      <td>0.938072</td>\n",
       "      <td>0.987016</td>\n",
       "      <td>0.973724</td>\n",
       "      <td>0.968173</td>\n",
       "      <td>0.989453</td>\n",
       "      <td>0.990810</td>\n",
       "      <td>0.966970</td>\n",
       "    </tr>\n",
       "    <tr>\n",
       "      <th>svm_ssa_20</th>\n",
       "      <td>0.443423</td>\n",
       "      <td>0.946214</td>\n",
       "      <td>0.443423</td>\n",
       "      <td>0.889746</td>\n",
       "      <td>0.936130</td>\n",
       "      <td>0.754356</td>\n",
       "      <td>0.916978</td>\n",
       "    </tr>\n",
       "    <tr>\n",
       "      <th>svm_expert</th>\n",
       "      <td>0.972737</td>\n",
       "      <td>0.999136</td>\n",
       "      <td>0.987140</td>\n",
       "      <td>0.982113</td>\n",
       "      <td>0.998365</td>\n",
       "      <td>0.993246</td>\n",
       "      <td>0.985474</td>\n",
       "    </tr>\n",
       "    <tr>\n",
       "      <th>rf_ar_20</th>\n",
       "      <td>0.925705</td>\n",
       "      <td>0.988342</td>\n",
       "      <td>0.972799</td>\n",
       "      <td>0.958828</td>\n",
       "      <td>0.984765</td>\n",
       "      <td>0.987078</td>\n",
       "      <td>0.959599</td>\n",
       "    </tr>\n",
       "    <tr>\n",
       "      <th>rf_expert</th>\n",
       "      <td>0.933138</td>\n",
       "      <td>0.997440</td>\n",
       "      <td>0.958643</td>\n",
       "      <td>0.960894</td>\n",
       "      <td>0.996669</td>\n",
       "      <td>0.988281</td>\n",
       "      <td>0.964348</td>\n",
       "    </tr>\n",
       "    <tr>\n",
       "      <th>rf_ssa_20</th>\n",
       "      <td>0.925181</td>\n",
       "      <td>0.996700</td>\n",
       "      <td>0.948250</td>\n",
       "      <td>0.959692</td>\n",
       "      <td>0.996453</td>\n",
       "      <td>0.986769</td>\n",
       "      <td>0.962498</td>\n",
       "    </tr>\n",
       "  </tbody>\n",
       "</table>\n",
       "</div>"
      ],
      "text/plain": [
       "                 all  Standing   Walking  Upstairs   Sitting   Jogging  \\\n",
       "lr_ssa_20   0.841110  0.995960  0.865752  0.903315  0.995898  0.985505   \n",
       "lr_expert   0.855513  0.991981  0.893816  0.910625  0.990902  0.984456   \n",
       "lr_ar_20    0.910224  0.983130  0.960524  0.951056  0.980817  0.987633   \n",
       "svm_ar_20   0.938072  0.987016  0.973724  0.968173  0.989453  0.990810   \n",
       "svm_ssa_20  0.443423  0.946214  0.443423  0.889746  0.936130  0.754356   \n",
       "svm_expert  0.972737  0.999136  0.987140  0.982113  0.998365  0.993246   \n",
       "rf_ar_20    0.925705  0.988342  0.972799  0.958828  0.984765  0.987078   \n",
       "rf_expert   0.933138  0.997440  0.958643  0.960894  0.996669  0.988281   \n",
       "rf_ssa_20   0.925181  0.996700  0.948250  0.959692  0.996453  0.986769   \n",
       "\n",
       "            Downstairs  \n",
       "lr_ssa_20     0.935790  \n",
       "lr_expert     0.939244  \n",
       "lr_ar_20      0.957286  \n",
       "svm_ar_20     0.966970  \n",
       "svm_ssa_20    0.916978  \n",
       "svm_expert    0.985474  \n",
       "rf_ar_20      0.959599  \n",
       "rf_expert     0.964348  \n",
       "rf_ssa_20     0.962498  "
      ]
     },
     "execution_count": 53,
     "metadata": {},
     "output_type": "execute_result"
    }
   ],
   "source": [
    "results_wisdm"
   ]
  },
  {
   "cell_type": "code",
   "execution_count": 54,
   "metadata": {
    "collapsed": false
   },
   "outputs": [
    {
     "data": {
      "text/html": [
       "<div>\n",
       "<table border=\"1\" class=\"dataframe\">\n",
       "  <thead>\n",
       "    <tr style=\"text-align: right;\">\n",
       "      <th></th>\n",
       "      <th>all</th>\n",
       "      <th>Standing</th>\n",
       "      <th>Elevator-up</th>\n",
       "      <th>Walking-forward</th>\n",
       "      <th>Sitting</th>\n",
       "      <th>Walking-downstairs</th>\n",
       "      <th>Sleeping</th>\n",
       "      <th>Elevator-down</th>\n",
       "      <th>Walking-upstairs</th>\n",
       "      <th>Jumping</th>\n",
       "      <th>Walking-right</th>\n",
       "      <th>Walking-left</th>\n",
       "      <th>Running</th>\n",
       "    </tr>\n",
       "  </thead>\n",
       "  <tbody>\n",
       "    <tr>\n",
       "      <th>lr_ssa_20</th>\n",
       "      <td>0.641713</td>\n",
       "      <td>0.934929</td>\n",
       "      <td>0.927048</td>\n",
       "      <td>0.885394</td>\n",
       "      <td>0.941743</td>\n",
       "      <td>0.931973</td>\n",
       "      <td>0.994195</td>\n",
       "      <td>0.941282</td>\n",
       "      <td>0.934518</td>\n",
       "      <td>0.996632</td>\n",
       "      <td>0.906177</td>\n",
       "      <td>0.894880</td>\n",
       "      <td>0.994655</td>\n",
       "    </tr>\n",
       "    <tr>\n",
       "      <th>lr_expert</th>\n",
       "      <td>0.665698</td>\n",
       "      <td>0.935820</td>\n",
       "      <td>0.939697</td>\n",
       "      <td>0.866256</td>\n",
       "      <td>0.978062</td>\n",
       "      <td>0.950876</td>\n",
       "      <td>1.000000</td>\n",
       "      <td>0.937474</td>\n",
       "      <td>0.945903</td>\n",
       "      <td>0.992717</td>\n",
       "      <td>0.902643</td>\n",
       "      <td>0.894596</td>\n",
       "      <td>0.987352</td>\n",
       "    </tr>\n",
       "    <tr>\n",
       "      <th>lr_ar_20</th>\n",
       "      <td>0.648164</td>\n",
       "      <td>0.934968</td>\n",
       "      <td>0.945512</td>\n",
       "      <td>0.864621</td>\n",
       "      <td>0.949946</td>\n",
       "      <td>0.933647</td>\n",
       "      <td>0.978443</td>\n",
       "      <td>0.943231</td>\n",
       "      <td>0.950866</td>\n",
       "      <td>0.990152</td>\n",
       "      <td>0.905267</td>\n",
       "      <td>0.906549</td>\n",
       "      <td>0.993128</td>\n",
       "    </tr>\n",
       "    <tr>\n",
       "      <th>svm_ar_20</th>\n",
       "      <td>0.707871</td>\n",
       "      <td>0.949829</td>\n",
       "      <td>0.943387</td>\n",
       "      <td>0.900685</td>\n",
       "      <td>0.966236</td>\n",
       "      <td>0.940627</td>\n",
       "      <td>0.982398</td>\n",
       "      <td>0.941185</td>\n",
       "      <td>0.956319</td>\n",
       "      <td>0.990338</td>\n",
       "      <td>0.923603</td>\n",
       "      <td>0.924572</td>\n",
       "      <td>0.996564</td>\n",
       "    </tr>\n",
       "    <tr>\n",
       "      <th>svm_ssa_20</th>\n",
       "      <td>0.626657</td>\n",
       "      <td>0.978160</td>\n",
       "      <td>0.946442</td>\n",
       "      <td>0.948595</td>\n",
       "      <td>0.979971</td>\n",
       "      <td>0.941811</td>\n",
       "      <td>0.982252</td>\n",
       "      <td>0.946951</td>\n",
       "      <td>0.955859</td>\n",
       "      <td>0.963740</td>\n",
       "      <td>0.726089</td>\n",
       "      <td>0.945727</td>\n",
       "      <td>0.937719</td>\n",
       "    </tr>\n",
       "    <tr>\n",
       "      <th>svm_expert</th>\n",
       "      <td>0.835458</td>\n",
       "      <td>0.957132</td>\n",
       "      <td>0.937327</td>\n",
       "      <td>0.961703</td>\n",
       "      <td>0.983573</td>\n",
       "      <td>0.984444</td>\n",
       "      <td>0.999883</td>\n",
       "      <td>0.936466</td>\n",
       "      <td>0.982477</td>\n",
       "      <td>0.998522</td>\n",
       "      <td>0.969006</td>\n",
       "      <td>0.962320</td>\n",
       "      <td>0.998062</td>\n",
       "    </tr>\n",
       "    <tr>\n",
       "      <th>rf_ar_20</th>\n",
       "      <td>0.703935</td>\n",
       "      <td>0.942927</td>\n",
       "      <td>0.946579</td>\n",
       "      <td>0.893989</td>\n",
       "      <td>0.962203</td>\n",
       "      <td>0.958013</td>\n",
       "      <td>0.981654</td>\n",
       "      <td>0.945688</td>\n",
       "      <td>0.947264</td>\n",
       "      <td>0.986676</td>\n",
       "      <td>0.923505</td>\n",
       "      <td>0.928057</td>\n",
       "      <td>0.991317</td>\n",
       "    </tr>\n",
       "    <tr>\n",
       "      <th>rf_expert</th>\n",
       "      <td>0.871698</td>\n",
       "      <td>0.975869</td>\n",
       "      <td>0.950034</td>\n",
       "      <td>0.969300</td>\n",
       "      <td>0.992188</td>\n",
       "      <td>0.985844</td>\n",
       "      <td>0.999951</td>\n",
       "      <td>0.949692</td>\n",
       "      <td>0.980538</td>\n",
       "      <td>0.998277</td>\n",
       "      <td>0.972795</td>\n",
       "      <td>0.972217</td>\n",
       "      <td>0.996691</td>\n",
       "    </tr>\n",
       "    <tr>\n",
       "      <th>rf_ssa_20</th>\n",
       "      <td>0.842467</td>\n",
       "      <td>0.966216</td>\n",
       "      <td>0.948057</td>\n",
       "      <td>0.963299</td>\n",
       "      <td>0.976221</td>\n",
       "      <td>0.979677</td>\n",
       "      <td>0.995193</td>\n",
       "      <td>0.948243</td>\n",
       "      <td>0.977944</td>\n",
       "      <td>0.997954</td>\n",
       "      <td>0.965120</td>\n",
       "      <td>0.969662</td>\n",
       "      <td>0.997347</td>\n",
       "    </tr>\n",
       "  </tbody>\n",
       "</table>\n",
       "</div>"
      ],
      "text/plain": [
       "                 all  Standing  Elevator-up  Walking-forward   Sitting  \\\n",
       "lr_ssa_20   0.641713  0.934929     0.927048         0.885394  0.941743   \n",
       "lr_expert   0.665698  0.935820     0.939697         0.866256  0.978062   \n",
       "lr_ar_20    0.648164  0.934968     0.945512         0.864621  0.949946   \n",
       "svm_ar_20   0.707871  0.949829     0.943387         0.900685  0.966236   \n",
       "svm_ssa_20  0.626657  0.978160     0.946442         0.948595  0.979971   \n",
       "svm_expert  0.835458  0.957132     0.937327         0.961703  0.983573   \n",
       "rf_ar_20    0.703935  0.942927     0.946579         0.893989  0.962203   \n",
       "rf_expert   0.871698  0.975869     0.950034         0.969300  0.992188   \n",
       "rf_ssa_20   0.842467  0.966216     0.948057         0.963299  0.976221   \n",
       "\n",
       "            Walking-downstairs  Sleeping  Elevator-down  Walking-upstairs  \\\n",
       "lr_ssa_20             0.931973  0.994195       0.941282          0.934518   \n",
       "lr_expert             0.950876  1.000000       0.937474          0.945903   \n",
       "lr_ar_20              0.933647  0.978443       0.943231          0.950866   \n",
       "svm_ar_20             0.940627  0.982398       0.941185          0.956319   \n",
       "svm_ssa_20            0.941811  0.982252       0.946951          0.955859   \n",
       "svm_expert            0.984444  0.999883       0.936466          0.982477   \n",
       "rf_ar_20              0.958013  0.981654       0.945688          0.947264   \n",
       "rf_expert             0.985844  0.999951       0.949692          0.980538   \n",
       "rf_ssa_20             0.979677  0.995193       0.948243          0.977944   \n",
       "\n",
       "             Jumping  Walking-right  Walking-left   Running  \n",
       "lr_ssa_20   0.996632       0.906177      0.894880  0.994655  \n",
       "lr_expert   0.992717       0.902643      0.894596  0.987352  \n",
       "lr_ar_20    0.990152       0.905267      0.906549  0.993128  \n",
       "svm_ar_20   0.990338       0.923603      0.924572  0.996564  \n",
       "svm_ssa_20  0.963740       0.726089      0.945727  0.937719  \n",
       "svm_expert  0.998522       0.969006      0.962320  0.998062  \n",
       "rf_ar_20    0.986676       0.923505      0.928057  0.991317  \n",
       "rf_expert   0.998277       0.972795      0.972217  0.996691  \n",
       "rf_ssa_20   0.997954       0.965120      0.969662  0.997347  "
      ]
     },
     "execution_count": 54,
     "metadata": {},
     "output_type": "execute_result"
    }
   ],
   "source": [
    "results_uschad"
   ]
  },
  {
   "cell_type": "code",
   "execution_count": null,
   "metadata": {
    "collapsed": true
   },
   "outputs": [],
   "source": []
  }
 ],
 "metadata": {
  "anaconda-cloud": {},
  "kernelspec": {
   "display_name": "Python [default]",
   "language": "python",
   "name": "python2"
  },
  "language_info": {
   "codemirror_mode": {
    "name": "ipython",
    "version": 2
   },
   "file_extension": ".py",
   "mimetype": "text/x-python",
   "name": "python",
   "nbconvert_exporter": "python",
   "pygments_lexer": "ipython2",
   "version": "2.7.12"
  }
 },
 "nbformat": 4,
 "nbformat_minor": 2
}

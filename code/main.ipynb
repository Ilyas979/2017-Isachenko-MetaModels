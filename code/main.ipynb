{
 "cells": [
  {
   "cell_type": "markdown",
   "metadata": {},
   "source": [
    "## Import libraries"
   ]
  },
  {
   "cell_type": "code",
   "execution_count": 1,
   "metadata": {
    "collapsed": false
   },
   "outputs": [],
   "source": [
    "import numpy as np\n",
    "import pandas as pd\n",
    "import scipy as sc\n",
    "import matplotlib.pyplot as plt\n",
    "%matplotlib inline"
   ]
  },
  {
   "cell_type": "code",
   "execution_count": 2,
   "metadata": {
    "collapsed": true
   },
   "outputs": [],
   "source": [
    "from sklearn.model_selection import train_test_split\n",
    "from sklearn.linear_model import LogisticRegression, LinearRegression\n",
    "from sklearn.model_selection import GridSearchCV\n",
    "from sklearn.metrics import accuracy_score"
   ]
  },
  {
   "cell_type": "markdown",
   "metadata": {},
   "source": [
    "## Clear the data "
   ]
  },
  {
   "cell_type": "markdown",
   "metadata": {},
   "source": [
    "After running this part of the code, we can work with the data from file: ```WISDM_ar_v1.1_raw_cleared.txt```."
   ]
  },
  {
   "cell_type": "code",
   "execution_count": 3,
   "metadata": {
    "collapsed": false
   },
   "outputs": [],
   "source": [
    "f_read = open(\"../data/WISDM/WISDM_ar_v1.1_raw.txt\", \"r\")\n",
    "f_write = open(\"../data/WISDM/WISDM_ar_v1.1_raw_cleared.txt\", \"w\")\n",
    "for string in f_read.readlines():\n",
    "    if string[-1] == '\\n':\n",
    "        string = string[:-1]\n",
    "    if len(string) > 0:\n",
    "        string_list = string.split(';')\n",
    "        if len(string_list) > 2:\n",
    "            for row in string_list[:2]:\n",
    "                words = row.split(',')\n",
    "                if len(words) > 5:\n",
    "                    if len(words[5]) > 0:\n",
    "                        f_write.write(\"%s,%s,%s,%s,%s,%s\\n\" % (words[0], words[1], \n",
    "                                                               words[2], words[3], \n",
    "                                                               words[4], words[5]))\n",
    "        else:\n",
    "            words = string_list[0].split(',')\n",
    "            if len(words) > 5:\n",
    "                if len(words[5]) > 0:\n",
    "                    f_write.write(\"%s,%s,%s,%s,%s,%s\\n\" % (words[0], words[1], \n",
    "                                                           words[2], words[3], \n",
    "                                                           words[4], words[5]))\n",
    "f_read.close()\n",
    "f_write.close()"
   ]
  },
  {
   "cell_type": "markdown",
   "metadata": {},
   "source": [
    "## Read data"
   ]
  },
  {
   "cell_type": "markdown",
   "metadata": {},
   "source": [
    "Read the data to pandas:  \n",
    "* ```id_user``` - identification number of the user (from 1 to 36 inclusively);\n",
    "* ```activity``` - type of activity (our classes: ```['Downstairs', 'Sitting', 'Walking', 'Upstairs', 'Jogging', 'Standing']```);\n",
    "* ```timestamp``` - time of measurement (in nanoseconds);\n",
    "* ```x``` - acceleration in $x$ direction;\n",
    "* ```y``` - acceleration in $y$ direction;\n",
    "* ```z``` - acceleration in $z$ direction;"
   ]
  },
  {
   "cell_type": "code",
   "execution_count": 4,
   "metadata": {
    "collapsed": false,
    "scrolled": true
   },
   "outputs": [
    {
     "data": {
      "text/html": [
       "<div>\n",
       "<table border=\"1\" class=\"dataframe\">\n",
       "  <thead>\n",
       "    <tr style=\"text-align: right;\">\n",
       "      <th></th>\n",
       "      <th>id_user</th>\n",
       "      <th>activity</th>\n",
       "      <th>timestamp</th>\n",
       "      <th>x</th>\n",
       "      <th>y</th>\n",
       "      <th>z</th>\n",
       "    </tr>\n",
       "  </thead>\n",
       "  <tbody>\n",
       "    <tr>\n",
       "      <th>0</th>\n",
       "      <td>33</td>\n",
       "      <td>Jogging</td>\n",
       "      <td>49105962326000</td>\n",
       "      <td>-0.694638</td>\n",
       "      <td>12.680544</td>\n",
       "      <td>0.503953</td>\n",
       "    </tr>\n",
       "    <tr>\n",
       "      <th>1</th>\n",
       "      <td>33</td>\n",
       "      <td>Jogging</td>\n",
       "      <td>49106062271000</td>\n",
       "      <td>5.012288</td>\n",
       "      <td>11.264028</td>\n",
       "      <td>0.953424</td>\n",
       "    </tr>\n",
       "    <tr>\n",
       "      <th>2</th>\n",
       "      <td>33</td>\n",
       "      <td>Jogging</td>\n",
       "      <td>49106112167000</td>\n",
       "      <td>4.903325</td>\n",
       "      <td>10.882658</td>\n",
       "      <td>-0.081722</td>\n",
       "    </tr>\n",
       "    <tr>\n",
       "      <th>3</th>\n",
       "      <td>33</td>\n",
       "      <td>Jogging</td>\n",
       "      <td>49106222305000</td>\n",
       "      <td>-0.612916</td>\n",
       "      <td>18.496431</td>\n",
       "      <td>3.023717</td>\n",
       "    </tr>\n",
       "    <tr>\n",
       "      <th>4</th>\n",
       "      <td>33</td>\n",
       "      <td>Jogging</td>\n",
       "      <td>49106332290000</td>\n",
       "      <td>-1.184970</td>\n",
       "      <td>12.108489</td>\n",
       "      <td>7.205164</td>\n",
       "    </tr>\n",
       "  </tbody>\n",
       "</table>\n",
       "</div>"
      ],
      "text/plain": [
       "   id_user activity       timestamp         x          y         z\n",
       "0       33  Jogging  49105962326000 -0.694638  12.680544  0.503953\n",
       "1       33  Jogging  49106062271000  5.012288  11.264028  0.953424\n",
       "2       33  Jogging  49106112167000  4.903325  10.882658 -0.081722\n",
       "3       33  Jogging  49106222305000 -0.612916  18.496431  3.023717\n",
       "4       33  Jogging  49106332290000 -1.184970  12.108489  7.205164"
      ]
     },
     "execution_count": 4,
     "metadata": {},
     "output_type": "execute_result"
    }
   ],
   "source": [
    "data = pd.read_table(\"../data/WISDM/WISDM_ar_v1.1_raw_cleared.txt\", delimiter=',', header=None)\n",
    "data.columns = ['id_user', 'activity', 'timestamp', 'x', 'y', 'z']\n",
    "data.head()"
   ]
  },
  {
   "cell_type": "markdown",
   "metadata": {},
   "source": [
    "Class distribution:"
   ]
  },
  {
   "cell_type": "code",
   "execution_count": 5,
   "metadata": {
    "collapsed": false,
    "scrolled": true
   },
   "outputs": [
    {
     "name": "stdout",
     "output_type": "stream",
     "text": [
      "Standing       48395    4.41  %\n",
      "Walking        424399   38.64 %\n",
      "Upstairs       122869   11.19 %\n",
      "Sitting        59939    5.46  %\n",
      "Jogging        342179   31.16 %\n",
      "Downstairs     100427   9.14  %\n",
      "()\n",
      "Number of objects: 1098208\n"
     ]
    }
   ],
   "source": [
    "classes = list(set(data['activity']))\n",
    "for activity in classes:\n",
    "    nb = np.sum(data['activity'] == activity)\n",
    "    print(\"{:<15}{:<9d}{:<5.2f} %\".format(activity, nb, 100. * nb / data.shape[0]))\n",
    "print()\n",
    "print(\"Number of objects: {:d}\".format(data.shape[0]))"
   ]
  },
  {
   "cell_type": "markdown",
   "metadata": {},
   "source": [
    "Example of the data:"
   ]
  },
  {
   "cell_type": "code",
   "execution_count": 6,
   "metadata": {
    "collapsed": false
   },
   "outputs": [
    {
     "data": {
      "image/png": "[encoded data removed]",
      "text/plain": [
       "<matplotlib.figure.Figure at 0x110334cd0>"
      ]
     },
     "metadata": {},
     "output_type": "display_data"
    }
   ],
   "source": [
    "id_user, activity = 11, 'Walking'\n",
    "\n",
    "mask = (data.loc[:, 'id_user'] == id_user) & (data.loc[:, 'activity'] == activity)\n",
    "x = np.array(data.loc[mask, 'timestamp'])[:np.min([300, np.sum(mask)])] / 10**6\n",
    "yx = np.array(data.loc[mask, 'x'])[:np.min([300, np.sum(mask)])]\n",
    "yy = np.array(data.loc[mask, 'y'])[:np.min([300, np.sum(mask)])]\n",
    "yz = np.array(data.loc[mask, 'z'])[:np.min([300, np.sum(mask)])]\n",
    "\n",
    "if np.sum(mask) > 0:\n",
    "    plt.figure(figsize=(10, 4))\n",
    "    plt.plot(x, yx, 'r', label='axis X acceleration')\n",
    "    plt.plot(x, yy, 'g', label='axis Y acceleration')\n",
    "    plt.plot(x, yz, 'b', label='axis Z acceleration')\n",
    "    plt.xlabel('Timestamp (ms)')\n",
    "    plt.ylabel('Acceleration')\n",
    "    plt.title(\"User: {}. Type of activity: {}\".format(id_user, activity))\n",
    "    plt.legend(bbox_to_anchor=(1.01, 1), loc=2, borderaxespad=0.)\n",
    "    plt.show()\n",
    "else:\n",
    "    print(\"There is no such data.\")"
   ]
  },
  {
   "cell_type": "markdown",
   "metadata": {},
   "source": [
    "## Creating object-feature matrix"
   ]
  },
  {
   "cell_type": "markdown",
   "metadata": {},
   "source": [
    "So we need to construct 10 seconds time series. To do it we need to remember the following:\n",
    "* each time series should be from one user and one type of activity;\n",
    "* in the time series timestamp should't differ more then 0.2 second (empirical rule, in ideal all timestamp should differ on 50 ms = 0.05 second)."
   ]
  },
  {
   "cell_type": "markdown",
   "metadata": {},
   "source": [
    "Now let's create **object-feature** matrix:"
   ]
  },
  {
   "cell_type": "code",
   "execution_count": 7,
   "metadata": {
    "collapsed": true
   },
   "outputs": [],
   "source": [
    "def check_candidate(candidate, threshold=2.*1e8):\n",
    "    tsp = np.array(candidate['timestamp'])\n",
    "    diffs = tsp[1:] - tsp[:-1]\n",
    "    \n",
    "    return np.sum(diffs > threshold) == 0\n",
    "\n",
    "def get_time_series(accelerations, nb=200):\n",
    "    accelerations.index = [i for i in range(len(accelerations))]\n",
    "    TS = []\n",
    "    st = 0\n",
    "    fi = st + nb\n",
    "    while fi < len(accelerations):\n",
    "        candidate = accelerations.loc[[st + i for i in range(nb)], :]\n",
    "        if check_candidate(candidate):\n",
    "            TS.append([np.array(candidate['x']), \n",
    "                       np.array(candidate['y']), \n",
    "                       np.array(candidate['z'])])\n",
    "        st = fi\n",
    "        fi += nb\n",
    "    \n",
    "    return TS"
   ]
  },
  {
   "cell_type": "markdown",
   "metadata": {},
   "source": [
    "## Feature extraction"
   ]
  },
  {
   "cell_type": "markdown",
   "metadata": {},
   "source": [
    "### Expert functions"
   ]
  },
  {
   "cell_type": "markdown",
   "metadata": {},
   "source": [
    "The idea is the following: we will consider 10 seconds time series (or 200 points of measurements) and calculate 40 features:\n",
    "* ```[3]``` - mean acceleration of each axis;\n",
    "* ```[3]``` - std of acceleration of each axis;\n",
    "* ```[3]``` - mean absolute deviation of acceleration of each axis;\n",
    "* ```[1]``` - mean acceleration;\n",
    "* ```[30]``` - distribution of time series values of each axis. First of all we calculate min and max of each component ($X, Y, Z$) from the whole interval. Then we divide the range of values of each component into 10 equal intervals and calculate on each each interval the percent of values that are in it (in the corresponding interval).  \n",
    "\n",
    "And apply LogisticRegression and SVM."
   ]
  },
  {
   "cell_type": "code",
   "execution_count": 8,
   "metadata": {
    "collapsed": true
   },
   "outputs": [],
   "source": [
    "def get_expert_features(ts):\n",
    "    x = ts[0]\n",
    "    y = ts[1]\n",
    "    z = ts[2]\n",
    "    n = x.shape[0]\n",
    "    features = []\n",
    "    features.append(x.mean())\n",
    "    features.append(y.mean())\n",
    "    features.append(z.mean())\n",
    "    features.append(x.std())\n",
    "    features.append(y.std())\n",
    "    features.append(z.std())\n",
    "    features.append(np.abs(x - x.mean()).mean())\n",
    "    features.append(np.abs(y - y.mean()).mean())\n",
    "    features.append(np.abs(z - z.mean()).mean())\n",
    "    features.append((x+y+z).mean() / 3.)\n",
    "    x_range = np.linspace(x.min(), x.max(), 11)\n",
    "    y_range = np.linspace(y.min(), y.max(), 11)\n",
    "    z_range = np.linspace(z.min(), z.max(), 11)\n",
    "    for i in range(10):\n",
    "        features.append(1. * np.sum((x_range[i] <= x) & (x < x_range[i+1])) / n)\n",
    "        features.append(1. * np.sum((y_range[i] <= y) & (y < y_range[i+1])) / n)\n",
    "        features.append(1. * np.sum((z_range[i] <= z) & (z < z_range[i+1])) / n)\n",
    "    \n",
    "    return features\n",
    "\n",
    "def get_expert_matrix(data, classes):\n",
    "\n",
    "    columns = ['avg_x', 'avg_y', 'avg_z', \n",
    "               'std_x', 'std_y', 'std_z', \n",
    "               'abs_x', 'abs_y', 'abs_z', 'mean']\n",
    "    for i in range(10):\n",
    "        name = str(i) + '_'\n",
    "        columns += [name + 'x', name + 'y', name + 'z']\n",
    "    df = pd.DataFrame(columns=['activity']+columns) \n",
    "\n",
    "    id_range = np.unique(np.array(data['id_user']))\n",
    "    for id_user in id_range:\n",
    "        for activity in classes:\n",
    "            mask = (data.loc[:, 'id_user'] == id_user) & (data.loc[:, 'activity'] == activity)\n",
    "            accelerations = data.loc[mask, ['timestamp', 'x', 'y', 'z']].copy()\n",
    "            TS = get_time_series(accelerations, nb=200)\n",
    "            for ts in TS:\n",
    "                features = get_expert_features(ts)\n",
    "                df.loc[len(df), :] = [classes.index(activity)] + features\n",
    "    return df"
   ]
  },
  {
   "cell_type": "markdown",
   "metadata": {},
   "source": [
    "### Autoregression model"
   ]
  },
  {
   "cell_type": "code",
   "execution_count": 9,
   "metadata": {
    "collapsed": true
   },
   "outputs": [],
   "source": [
    "def get_autoregressive_features(ts, n=10):\n",
    "    x = ts[0]\n",
    "    y = ts[1]\n",
    "    z = ts[2]\n",
    "    m = x.shape[0]\n",
    "    features = []\n",
    "    X = np.zeros([m-n, n])\n",
    "    Y = np.zeros(m-n)\n",
    "    for axis in [x, y, z]:\n",
    "        for i in range(m-n):\n",
    "            X[i, :] = axis[i:i+n]\n",
    "            Y[i] = axis[i+n]\n",
    "        lr = LinearRegression()\n",
    "        lr.fit(X, Y)\n",
    "        features.append(lr.intercept_)\n",
    "        features.extend(lr.coef_)\n",
    "    \n",
    "    return features\n",
    "\n",
    "def get_autoregressive_matrix(data, classes, n_features=10):\n",
    "    \n",
    "    columns = []\n",
    "    for ax in ['x', 'y', 'z']:\n",
    "        columns += ['intercept_' + ax]\n",
    "        for i in range(n_features):\n",
    "            columns += ['coef_' + str(i) + '_' + ax]\n",
    "        df = pd.DataFrame(columns=['activity']+columns)\n",
    "\n",
    "    id_range = np.unique(np.array(data['id_user']))\n",
    "    for id_user in id_range:\n",
    "        for activity in classes:\n",
    "            mask = (data.loc[:, 'id_user'] == id_user) & (data.loc[:, 'activity'] == activity)\n",
    "            accelerations = data.loc[mask, ['timestamp', 'x', 'y', 'z']].copy()\n",
    "            TS = get_time_series(accelerations, nb=200)\n",
    "            for ts in TS:\n",
    "                features = get_autoregressive_features(ts, n=n_features)\n",
    "                df.loc[len(df), :] = [classes.index(activity)] + features\n",
    "    return df"
   ]
  },
  {
   "cell_type": "markdown",
   "metadata": {},
   "source": [
    "### Spectrum analysis"
   ]
  },
  {
   "cell_type": "code",
   "execution_count": 10,
   "metadata": {
    "collapsed": true
   },
   "outputs": [],
   "source": [
    "def get_spectrum_features(ts, n=10):\n",
    "    x = ts[0]\n",
    "    y = ts[1]\n",
    "    z = ts[2]\n",
    "    m = x.shape[0]\n",
    "    features = []\n",
    "    X = np.zeros([m-n, n])\n",
    "    Y = np.zeros(m-n)\n",
    "    for axis in [x, y, z]:\n",
    "        for i in range(m-n):\n",
    "            X[i, :] = axis[i:i+n]\n",
    "        h = sc.linalg.svd(X.T.dot(X), compute_uv=False, overwrite_a=True)\n",
    "        features.extend(h)\n",
    "    \n",
    "    return features\n",
    "\n",
    "def get_spectrum_matrix(data, classes, n_features=10):\n",
    "    \n",
    "    columns = []\n",
    "    for ax in ['x', 'y', 'z']:\n",
    "        for i in range(n_features):\n",
    "            columns += ['eigv_' + str(i) + '_' + ax]\n",
    "        df = pd.DataFrame(columns=['activity']+columns)\n",
    "\n",
    "    id_range = np.unique(np.array(data['id_user']))\n",
    "    for id_user in id_range:\n",
    "        for activity in classes:\n",
    "            mask = (data.loc[:, 'id_user'] == id_user) & (data.loc[:, 'activity'] == activity)\n",
    "            accelerations = data.loc[mask, ['timestamp', 'x', 'y', 'z']].copy()\n",
    "            TS = get_time_series(accelerations, nb=200)\n",
    "            for ts in TS:\n",
    "                features = get_spectrum_features(ts, n=n_features)\n",
    "                df.loc[len(df), :] = [classes.index(activity)] + features\n",
    "    return df"
   ]
  },
  {
   "cell_type": "markdown",
   "metadata": {},
   "source": [
    "## В другое место \n",
    "\n",
    "Class distribution:"
   ]
  },
  {
   "cell_type": "code",
   "execution_count": 14,
   "metadata": {
    "collapsed": false,
    "scrolled": true
   },
   "outputs": [
    {
     "name": "stdout",
     "output_type": "stream",
     "text": [
      "Standing       229      5.30  %\n",
      "Walking        1917     44.36 %\n",
      "Upstairs       466      10.78 %\n",
      "Sitting        277      6.41  %\n",
      "Jogging        1075     24.88 %\n",
      "Downstairs     357      8.26  %\n",
      "()\n",
      "Number of objects: 4321\n"
     ]
    }
   ],
   "source": [
    "for activity in classes:\n",
    "    nb = np.sum(df['activity'] == classes.index(activity))\n",
    "    print(\"{:<15}{:<9d}{:<5.2f} %\".format(activity, nb, 100. * nb / df.shape[0]))\n",
    "print()\n",
    "print(\"Number of objects: {:d}\".format(df.shape[0]))"
   ]
  },
  {
   "cell_type": "markdown",
   "metadata": {},
   "source": [
    "## Classification"
   ]
  },
  {
   "cell_type": "code",
   "execution_count": 15,
   "metadata": {
    "collapsed": true
   },
   "outputs": [],
   "source": [
    "def get_internal_score(clf, X, y, max_iter=20):\n",
    "    nb = np.unique(y).shape[0]\n",
    "    scores = np.zeros(nb+1)\n",
    "    for j in range(max_iter):\n",
    "        X_train, X_test, y_train, y_test = train_test_split(X, y, test_size=0.3)\n",
    "        clf.fit(X_train, y_train)\n",
    "        y_predict = clf.predict(X_test)\n",
    "        scores[0] += accuracy_score(y_test, y_predict)\n",
    "        for i in range(nb):\n",
    "            scores[i+1] += accuracy_score(1*(np.array(y_test) == i), \n",
    "                                         1*(np.array(y_predict) == i))\n",
    "            \n",
    "    return scores / max_iter"
   ]
  },
  {
   "cell_type": "code",
   "execution_count": 16,
   "metadata": {
    "collapsed": false
   },
   "outputs": [],
   "source": [
    "def get_score(df, estimator, params_grid, test_size=0.3):\n",
    "    X = df.iloc[:, 1:].values\n",
    "    y = df['activity'].values\n",
    "    X_train, X_test, y_train, y_test = train_test_split(X, y, test_size=test_size)\n",
    "    \n",
    "    clf = GridSearchCV(estimator, params_grid)\n",
    "    clf.fit(X_train, list(y_train))\n",
    "    clf_lr = clf.best_estimator_\n",
    "    scores = get_internal_score(clf_lr, X, list(y))\n",
    "    return scores"
   ]
  },
  {
   "cell_type": "markdown",
   "metadata": {},
   "source": [
    "### Expert functions, logistic regresison"
   ]
  },
  {
   "cell_type": "code",
   "execution_count": 18,
   "metadata": {
    "collapsed": false
   },
   "outputs": [],
   "source": [
    "df = get_expert_matrix(data, classes)\n",
    "\n",
    "scores['lr_expert'] = get_score(df, LogisticRegression(), params)"
   ]
  },
  {
   "cell_type": "markdown",
   "metadata": {},
   "source": [
    "### Autogression model, logistic regresison"
   ]
  },
  {
   "cell_type": "code",
   "execution_count": 17,
   "metadata": {
    "collapsed": false
   },
   "outputs": [],
   "source": [
    "params = {'penalty': ['l1', 'l2'], \n",
    "              'class_weight': ['balanced', None], \n",
    "              'C': 10. ** np.arange(0, 5, 1)}\n",
    "\n",
    "scores = {}\n",
    "\n",
    "for n in [10, 20, 30, 40]:\n",
    "    df = get_autoregressive_matrix(data, classes, n_features=n)\n",
    "\n",
    "    scores['lr_ar_' + str(n)] = get_score(df, LogisticRegression(), params)"
   ]
  },
  {
   "cell_type": "markdown",
   "metadata": {},
   "source": [
    "### Spectrum analysis, logistic regresison"
   ]
  },
  {
   "cell_type": "code",
   "execution_count": 19,
   "metadata": {
    "collapsed": true
   },
   "outputs": [],
   "source": [
    "for n in [10, 20, 30, 40]:\n",
    "    df = get_spectrum_matrix(data, classes, n_features=n)\n",
    "\n",
    "    scores['lr_spectrum_' + str(n)] = get_score(df, LogisticRegression(), params)"
   ]
  },
  {
   "cell_type": "code",
   "execution_count": 20,
   "metadata": {
    "collapsed": false
   },
   "outputs": [
    {
     "data": {
      "text/html": [
       "<div>\n",
       "<table border=\"1\" class=\"dataframe\">\n",
       "  <thead>\n",
       "    <tr style=\"text-align: right;\">\n",
       "      <th></th>\n",
       "      <th>all</th>\n",
       "      <th>Standing</th>\n",
       "      <th>Walking</th>\n",
       "      <th>Upstairs</th>\n",
       "      <th>Sitting</th>\n",
       "      <th>Jogging</th>\n",
       "      <th>Downstairs</th>\n",
       "    </tr>\n",
       "  </thead>\n",
       "  <tbody>\n",
       "    <tr>\n",
       "      <th>lr_ar_30</th>\n",
       "      <td>0.908982</td>\n",
       "      <td>0.983231</td>\n",
       "      <td>0.965767</td>\n",
       "      <td>0.946955</td>\n",
       "      <td>0.978258</td>\n",
       "      <td>0.988126</td>\n",
       "      <td>0.955628</td>\n",
       "    </tr>\n",
       "    <tr>\n",
       "      <th>lr_expert</th>\n",
       "      <td>0.854318</td>\n",
       "      <td>0.990478</td>\n",
       "      <td>0.895451</td>\n",
       "      <td>0.908905</td>\n",
       "      <td>0.989244</td>\n",
       "      <td>0.983423</td>\n",
       "      <td>0.941133</td>\n",
       "    </tr>\n",
       "    <tr>\n",
       "      <th>lr_ar_20</th>\n",
       "      <td>0.906823</td>\n",
       "      <td>0.984310</td>\n",
       "      <td>0.957170</td>\n",
       "      <td>0.945644</td>\n",
       "      <td>0.982652</td>\n",
       "      <td>0.987086</td>\n",
       "      <td>0.956785</td>\n",
       "    </tr>\n",
       "    <tr>\n",
       "      <th>lr_ar_10</th>\n",
       "      <td>0.875675</td>\n",
       "      <td>0.982151</td>\n",
       "      <td>0.936777</td>\n",
       "      <td>0.939784</td>\n",
       "      <td>0.982460</td>\n",
       "      <td>0.973824</td>\n",
       "      <td>0.936353</td>\n",
       "    </tr>\n",
       "    <tr>\n",
       "      <th>lr_ar_40</th>\n",
       "      <td>0.894988</td>\n",
       "      <td>0.978643</td>\n",
       "      <td>0.960871</td>\n",
       "      <td>0.942406</td>\n",
       "      <td>0.975713</td>\n",
       "      <td>0.984310</td>\n",
       "      <td>0.948034</td>\n",
       "    </tr>\n",
       "    <tr>\n",
       "      <th>lr_spectrum_30</th>\n",
       "      <td>0.880609</td>\n",
       "      <td>0.996608</td>\n",
       "      <td>0.939052</td>\n",
       "      <td>0.913570</td>\n",
       "      <td>0.996415</td>\n",
       "      <td>0.983847</td>\n",
       "      <td>0.931727</td>\n",
       "    </tr>\n",
       "    <tr>\n",
       "      <th>lr_spectrum_20</th>\n",
       "      <td>0.841210</td>\n",
       "      <td>0.996376</td>\n",
       "      <td>0.864958</td>\n",
       "      <td>0.901311</td>\n",
       "      <td>0.995258</td>\n",
       "      <td>0.985968</td>\n",
       "      <td>0.938551</td>\n",
       "    </tr>\n",
       "    <tr>\n",
       "      <th>lr_spectrum_10</th>\n",
       "      <td>0.834850</td>\n",
       "      <td>0.996800</td>\n",
       "      <td>0.876099</td>\n",
       "      <td>0.891480</td>\n",
       "      <td>0.995952</td>\n",
       "      <td>0.985505</td>\n",
       "      <td>0.923863</td>\n",
       "    </tr>\n",
       "    <tr>\n",
       "      <th>lr_spectrum_40</th>\n",
       "      <td>0.890401</td>\n",
       "      <td>0.996839</td>\n",
       "      <td>0.948574</td>\n",
       "      <td>0.917078</td>\n",
       "      <td>0.996453</td>\n",
       "      <td>0.984310</td>\n",
       "      <td>0.937548</td>\n",
       "    </tr>\n",
       "  </tbody>\n",
       "</table>\n",
       "</div>"
      ],
      "text/plain": [
       "                     all  Standing   Walking  Upstairs   Sitting   Jogging  \\\n",
       "lr_ar_30        0.908982  0.983231  0.965767  0.946955  0.978258  0.988126   \n",
       "lr_expert       0.854318  0.990478  0.895451  0.908905  0.989244  0.983423   \n",
       "lr_ar_20        0.906823  0.984310  0.957170  0.945644  0.982652  0.987086   \n",
       "lr_ar_10        0.875675  0.982151  0.936777  0.939784  0.982460  0.973824   \n",
       "lr_ar_40        0.894988  0.978643  0.960871  0.942406  0.975713  0.984310   \n",
       "lr_spectrum_30  0.880609  0.996608  0.939052  0.913570  0.996415  0.983847   \n",
       "lr_spectrum_20  0.841210  0.996376  0.864958  0.901311  0.995258  0.985968   \n",
       "lr_spectrum_10  0.834850  0.996800  0.876099  0.891480  0.995952  0.985505   \n",
       "lr_spectrum_40  0.890401  0.996839  0.948574  0.917078  0.996453  0.984310   \n",
       "\n",
       "                Downstairs  \n",
       "lr_ar_30          0.955628  \n",
       "lr_expert         0.941133  \n",
       "lr_ar_20          0.956785  \n",
       "lr_ar_10          0.936353  \n",
       "lr_ar_40          0.948034  \n",
       "lr_spectrum_30    0.931727  \n",
       "lr_spectrum_20    0.938551  \n",
       "lr_spectrum_10    0.923863  \n",
       "lr_spectrum_40    0.937548  "
      ]
     },
     "execution_count": 20,
     "metadata": {},
     "output_type": "execute_result"
    }
   ],
   "source": [
    "scores_df = pd.DataFrame.from_dict(scores, orient='index')\n",
    "scores_df.columns = ['all'] + classes\n",
    "\n",
    "scores_df"
   ]
  },
  {
   "cell_type": "code",
   "execution_count": null,
   "metadata": {
    "collapsed": true
   },
   "outputs": [],
   "source": []
  }
 ],
 "metadata": {
  "anaconda-cloud": {},
  "kernelspec": {
   "display_name": "Python 2",
   "language": "python",
   "name": "python2"
  },
  "language_info": {
   "codemirror_mode": {
    "name": "ipython",
    "version": 2
   },
   "file_extension": ".py",
   "mimetype": "text/x-python",
   "name": "python",
   "nbconvert_exporter": "python",
   "pygments_lexer": "ipython2",
   "version": "2.7.13"
  }
 },
 "nbformat": 4,
 "nbformat_minor": 2
}

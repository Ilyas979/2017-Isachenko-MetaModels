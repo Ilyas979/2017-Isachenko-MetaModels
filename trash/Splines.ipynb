{
 "cells": [
  {
   "cell_type": "markdown",
   "metadata": {},
   "source": [
    "## Import libraries"
   ]
  },
  {
   "cell_type": "code",
   "execution_count": 1,
   "metadata": {
    "collapsed": false
   },
   "outputs": [],
   "source": [
    "import numpy as np\n",
    "import pandas as pd\n",
    "import matplotlib.pyplot as plt\n",
    "%matplotlib inline"
   ]
  },
  {
   "cell_type": "code",
   "execution_count": 2,
   "metadata": {
    "collapsed": true
   },
   "outputs": [],
   "source": [
    "from sklearn.model_selection import train_test_split\n",
    "from sklearn.linear_model import LogisticRegression\n",
    "from sklearn.model_selection import GridSearchCV\n",
    "from sklearn.metrics import accuracy_score\n",
    "\n",
    "from scipy.interpolate import splrep\n",
    "from scipy.interpolate import splev\n",
    "from patsy.builtins import bs"
   ]
  },
  {
   "cell_type": "markdown",
   "metadata": {},
   "source": [
    "## Clear the data "
   ]
  },
  {
   "cell_type": "markdown",
   "metadata": {},
   "source": [
    "After running this part of the code, we can work with the data from file: ```WISDM_ar_v1.1_raw_cleared.txt```."
   ]
  },
  {
   "cell_type": "code",
   "execution_count": 4,
   "metadata": {
    "collapsed": false
   },
   "outputs": [],
   "source": [
    "f_read = open(\"../data/WISDM/WISDM_ar_v1.1_raw.txt\", \"r\")\n",
    "f_write = open(\"../data/WISDM/WISDM_ar_v1.1_raw_cleared.txt\", \"w\")\n",
    "for string in f_read.readlines():\n",
    "    if string[-1] == '\\n':\n",
    "        string = string[:-1]\n",
    "    if len(string) > 0:\n",
    "        string_list = string.split(';')\n",
    "        if len(string_list) > 2:\n",
    "            for row in string_list[:2]:\n",
    "                words = row.split(',')\n",
    "                if len(words) > 5:\n",
    "                    if len(words[5]) > 0:\n",
    "                        f_write.write(\"%s,%s,%s,%s,%s,%s\\n\" % (words[0], words[1], \n",
    "                                                               words[2], words[3], \n",
    "                                                               words[4], words[5]))\n",
    "        else:\n",
    "            words = string_list[0].split(',')\n",
    "            if len(words) > 5:\n",
    "                if len(words[5]) > 0:\n",
    "                    f_write.write(\"%s,%s,%s,%s,%s,%s\\n\" % (words[0], words[1], \n",
    "                                                           words[2], words[3], \n",
    "                                                           words[4], words[5]))\n",
    "f_read.close()\n",
    "f_write.close()"
   ]
  },
  {
   "cell_type": "markdown",
   "metadata": {},
   "source": [
    "## Read data"
   ]
  },
  {
   "cell_type": "markdown",
   "metadata": {},
   "source": [
    "Read the data to pandas:  \n",
    "* ```id_user``` - identification number of the user (from 1 to 36 inclusively);\n",
    "* ```activity``` - type of activity (our classes: ```['Downstairs', 'Sitting', 'Walking', 'Upstairs', 'Jogging', 'Standing']```);\n",
    "* ```timestamp``` - time of measurement (in nanoseconds);\n",
    "* ```x``` - acceleration in $x$ direction;\n",
    "* ```y``` - acceleration in $y$ direction;\n",
    "* ```z``` - acceleration in $z$ direction;"
   ]
  },
  {
   "cell_type": "code",
   "execution_count": 3,
   "metadata": {
    "collapsed": false,
    "scrolled": false
   },
   "outputs": [
    {
     "data": {
      "text/html": [
       "<div>\n",
       "<table border=\"1\" class=\"dataframe\">\n",
       "  <thead>\n",
       "    <tr style=\"text-align: right;\">\n",
       "      <th></th>\n",
       "      <th>id_user</th>\n",
       "      <th>activity</th>\n",
       "      <th>timestamp</th>\n",
       "      <th>x</th>\n",
       "      <th>y</th>\n",
       "      <th>z</th>\n",
       "    </tr>\n",
       "  </thead>\n",
       "  <tbody>\n",
       "    <tr>\n",
       "      <th>0</th>\n",
       "      <td>33</td>\n",
       "      <td>Jogging</td>\n",
       "      <td>49105962326000</td>\n",
       "      <td>-0.694638</td>\n",
       "      <td>12.680544</td>\n",
       "      <td>0.503953</td>\n",
       "    </tr>\n",
       "    <tr>\n",
       "      <th>1</th>\n",
       "      <td>33</td>\n",
       "      <td>Jogging</td>\n",
       "      <td>49106062271000</td>\n",
       "      <td>5.012288</td>\n",
       "      <td>11.264028</td>\n",
       "      <td>0.953424</td>\n",
       "    </tr>\n",
       "    <tr>\n",
       "      <th>2</th>\n",
       "      <td>33</td>\n",
       "      <td>Jogging</td>\n",
       "      <td>49106112167000</td>\n",
       "      <td>4.903325</td>\n",
       "      <td>10.882658</td>\n",
       "      <td>-0.081722</td>\n",
       "    </tr>\n",
       "    <tr>\n",
       "      <th>3</th>\n",
       "      <td>33</td>\n",
       "      <td>Jogging</td>\n",
       "      <td>49106222305000</td>\n",
       "      <td>-0.612916</td>\n",
       "      <td>18.496431</td>\n",
       "      <td>3.023717</td>\n",
       "    </tr>\n",
       "    <tr>\n",
       "      <th>4</th>\n",
       "      <td>33</td>\n",
       "      <td>Jogging</td>\n",
       "      <td>49106332290000</td>\n",
       "      <td>-1.184970</td>\n",
       "      <td>12.108489</td>\n",
       "      <td>7.205164</td>\n",
       "    </tr>\n",
       "  </tbody>\n",
       "</table>\n",
       "</div>"
      ],
      "text/plain": [
       "   id_user activity       timestamp         x          y         z\n",
       "0       33  Jogging  49105962326000 -0.694638  12.680544  0.503953\n",
       "1       33  Jogging  49106062271000  5.012288  11.264028  0.953424\n",
       "2       33  Jogging  49106112167000  4.903325  10.882658 -0.081722\n",
       "3       33  Jogging  49106222305000 -0.612916  18.496431  3.023717\n",
       "4       33  Jogging  49106332290000 -1.184970  12.108489  7.205164"
      ]
     },
     "execution_count": 3,
     "metadata": {},
     "output_type": "execute_result"
    }
   ],
   "source": [
    "data = pd.read_table(\"../data/WISDM/WISDM_ar_v1.1_raw_cleared.txt\", delimiter=',', header=None)\n",
    "data.columns = ['id_user', 'activity', 'timestamp', 'x', 'y', 'z']\n",
    "data.head()"
   ]
  },
  {
   "cell_type": "markdown",
   "metadata": {},
   "source": [
    "Class distribution:"
   ]
  },
  {
   "cell_type": "code",
   "execution_count": 4,
   "metadata": {
    "collapsed": false,
    "scrolled": true
   },
   "outputs": [
    {
     "name": "stdout",
     "output_type": "stream",
     "text": [
      "Jogging        342179   31.16 %\n",
      "Sitting        59939    5.46  %\n",
      "Standing       48395    4.41  %\n",
      "Walking        424399   38.64 %\n",
      "Upstairs       122869   11.19 %\n",
      "Downstairs     100427   9.14  %\n",
      "\n",
      "Number of objects: 1098208\n"
     ]
    }
   ],
   "source": [
    "classes = list(set(data['activity']))\n",
    "for activity in classes:\n",
    "    nb = np.sum(data['activity'] == activity)\n",
    "    print(\"{:<15}{:<9d}{:<5.2f} %\".format(activity, nb, 100. * nb / data.shape[0]))\n",
    "print()\n",
    "print(\"Number of objects: {:d}\".format(data.shape[0]))"
   ]
  },
  {
   "cell_type": "markdown",
   "metadata": {},
   "source": [
    "Example of the data:"
   ]
  },
  {
   "cell_type": "code",
   "execution_count": 5,
   "metadata": {
    "collapsed": false
   },
   "outputs": [
    {
     "data": {
      "image/png": "[encoded data removed]",
      "text/plain": [
       "<matplotlib.figure.Figure at 0x10fbe9860>"
      ]
     },
     "metadata": {},
     "output_type": "display_data"
    }
   ],
   "source": [
    "id_user, activity = 3, 'Sitting'\n",
    "\n",
    "mask = (data.loc[:, 'id_user'] == id_user) & (data.loc[:, 'activity'] == activity)\n",
    "x = np.array(data.loc[mask, 'timestamp'])[:np.min([300, np.sum(mask)])] / 10**6\n",
    "yx = np.array(data.loc[mask, 'x'])[:np.min([300, np.sum(mask)])]\n",
    "yy = np.array(data.loc[mask, 'y'])[:np.min([300, np.sum(mask)])]\n",
    "yz = np.array(data.loc[mask, 'z'])[:np.min([300, np.sum(mask)])]\n",
    "\n",
    "if np.sum(mask) > 0:\n",
    "    plt.figure(figsize=(10, 4))\n",
    "    plt.plot(x, yx, 'r', label='axis X acceleration')\n",
    "    plt.plot(x, yy, 'g', label='axis Y acceleration')\n",
    "    plt.plot(x, yz, 'b', label='axis Z acceleration')\n",
    "    plt.xlabel('Timestamp (ms)')\n",
    "    plt.ylabel('Acceleration')\n",
    "    plt.title(\"User: {}. Type of activity: {}\".format(id_user, activity))\n",
    "    plt.legend(bbox_to_anchor=(1.01, 1), loc=2, borderaxespad=0.)\n",
    "    plt.show()\n",
    "else:\n",
    "    print(\"There is no such data.\")"
   ]
  },
  {
   "cell_type": "markdown",
   "metadata": {},
   "source": [
    "## Base method"
   ]
  },
  {
   "cell_type": "markdown",
   "metadata": {},
   "source": [
    "The idea is the following: we will consider 10 seconds time series (or 200 points of measurements) and calculate 40 features:\n",
    "* ```[3]``` - mean acceleration of each axis;\n",
    "* ```[3]``` - std of acceleration of each axis;\n",
    "* ```[3]``` - mean absolute deviation of acceleration of each axis;\n",
    "* ```[1]``` - mean acceleration;\n",
    "* ```[30]``` - distribution of time series values of each axis. First of all we calculate min and max of each component ($X, Y, Z$) from the whole interval. Then we divide the range of values of each component into 10 equal intervals and calculate on each each interval the percent of values that are in it (in the corresponding interval).  \n",
    "\n",
    "And apply LogisticRegression and SVM."
   ]
  },
  {
   "cell_type": "markdown",
   "metadata": {},
   "source": [
    "### Creating object-feature matrix"
   ]
  },
  {
   "cell_type": "markdown",
   "metadata": {},
   "source": [
    "So we need to construct 10 seconds time series. To do it we need to remember the following:\n",
    "* each time series should be from one user and one type of activity;\n",
    "* in the time series timestamp should't differ more than 0.2 second (empirical rule, in ideal all timestamp should differ on 50 ms = 0.05 second)."
   ]
  },
  {
   "cell_type": "markdown",
   "metadata": {},
   "source": [
    "Now let's create **object-feature** matrix:"
   ]
  },
  {
   "cell_type": "code",
   "execution_count": 6,
   "metadata": {
    "collapsed": false
   },
   "outputs": [],
   "source": [
    "def check_candidat(candidat, threshold=2.*1e8):\n",
    "    tsp = np.array(candidat['timestamp'])\n",
    "    diffs = tsp[1:] - tsp[:-1]\n",
    "    \n",
    "    return np.sum(diffs > threshold) == 0\n",
    "\n",
    "def get_time_series(accelerations, nb=200):\n",
    "    accelerations.index = [i for i in range(len(accelerations))]\n",
    "    TS = []\n",
    "    st = 0\n",
    "    fi = st + nb\n",
    "    while fi < len(accelerations):\n",
    "        candidat = accelerations.loc[[st + i for i in range(nb)], :]\n",
    "        if check_candidat(candidat):\n",
    "            TS.append([np.array(candidat['x']), \n",
    "                       np.array(candidat['y']), \n",
    "                       np.array(candidat['z'])])\n",
    "        st = fi\n",
    "        fi += nb\n",
    "    \n",
    "    return TS\n",
    "\n",
    "def get_features(ts):\n",
    "    x = ts[0]\n",
    "    y = ts[1]\n",
    "    z = ts[2]\n",
    "    n = x.shape[0]\n",
    "    features = []\n",
    "    features.append(x.mean())\n",
    "    features.append(y.mean())\n",
    "    features.append(z.mean())\n",
    "    features.append(x.std())\n",
    "    features.append(y.std())\n",
    "    features.append(z.std())\n",
    "    features.append(np.abs(x - x.mean()).mean())\n",
    "    features.append(np.abs(y - y.mean()).mean())\n",
    "    features.append(np.abs(z - z.mean()).mean())\n",
    "    features.append((x+y+z).mean() / 3.)\n",
    "    x_range = np.linspace(x.min(), x.max(), 11)\n",
    "    y_range = np.linspace(y.min(), y.max(), 11)\n",
    "    z_range = np.linspace(z.min(), z.max(), 11)\n",
    "    for i in range(10):\n",
    "        features.append(1. * np.sum((x_range[i] <= x) & (x < x_range[i+1])) / n)\n",
    "        features.append(1. * np.sum((y_range[i] <= y) & (y < y_range[i+1])) / n)\n",
    "        features.append(1. * np.sum((z_range[i] <= z) & (z < z_range[i+1])) / n)\n",
    "    \n",
    "    return features\n",
    "\n",
    "def get_spline_features(ts, fraction=0.4):\n",
    "    x = ts[0]\n",
    "    y = ts[1]\n",
    "    z = ts[2]\n",
    "    nb = len(x)\n",
    "    t = list(range(nb))\n",
    "    knots = np.linspace(t[0], t[nb-1], endpoint=False, num=int(fraction*nb))[1:]\n",
    "    spl_x = splrep(t, x, task=-1, t=knots)\n",
    "#     tx = np.linspace(1, 200, 1000)\n",
    "#     xx = splev(tx, spl_x)\n",
    "#     plt.plot(t, x)\n",
    "#     plt.plot(tx, xx, c='r')\n",
    "#     plt.ylim(-10, 10)\n",
    "    spl_y = splrep(t, y, task=-1, t=knots)\n",
    "    spl_z = splrep(t, z, task=-1, t=knots)\n",
    "    #print(len(spl_x[1]))\n",
    "    return np.concatenate((spl_x[1], spl_y[1], spl_z[1]), axis=0)"
   ]
  },
  {
   "cell_type": "code",
   "execution_count": 7,
   "metadata": {
    "collapsed": false,
    "scrolled": true
   },
   "outputs": [],
   "source": [
    "id_range = np.unique(np.array(data['id_user']))\n",
    "features = []\n",
    "act = []\n",
    "for id_user in id_range:\n",
    "    for activity in classes:\n",
    "        mask = (data.loc[:, 'id_user'] == id_user) & (data.loc[:, 'activity'] == activity)\n",
    "        accelerations = data.loc[mask, ['timestamp', 'x', 'y', 'z']].copy()\n",
    "        TS = get_time_series(accelerations, nb=200)\n",
    "        for ts in TS:\n",
    "            features.append(get_spline_features(ts))\n",
    "            act.append(classes.index(activity))\n",
    "X = np.array(features)\n",
    "y = np.array(act)"
   ]
  },
  {
   "cell_type": "markdown",
   "metadata": {},
   "source": [
    "Class distribution:"
   ]
  },
  {
   "cell_type": "code",
   "execution_count": 10,
   "metadata": {
    "collapsed": false,
    "scrolled": true
   },
   "outputs": [
    {
     "name": "stdout",
     "output_type": "stream",
     "text": [
      "Jogging        1075     24.88 %\n",
      "Sitting        277      6.41  %\n",
      "Standing       229      5.30  %\n",
      "Walking        1917     44.36 %\n",
      "Upstairs       466      10.78 %\n",
      "Downstairs     357      8.26  %\n",
      "\n",
      "Number of objects: 4321\n"
     ]
    }
   ],
   "source": [
    "for activity in classes:\n",
    "    nb = np.sum(y == classes.index(activity))\n",
    "    print(\"{:<15}{:<9d}{:<5.2f} %\".format(activity, nb, 100. * nb / len(y)))\n",
    "print()\n",
    "print(\"Number of objects: {:d}\".format(len(y)))"
   ]
  },
  {
   "cell_type": "markdown",
   "metadata": {},
   "source": [
    "### Classification"
   ]
  },
  {
   "cell_type": "code",
   "execution_count": 46,
   "metadata": {
    "collapsed": true
   },
   "outputs": [],
   "source": [
    "X_train, X_test, y_train, y_test = train_test_split(X, y, test_size=0.3)"
   ]
  },
  {
   "cell_type": "markdown",
   "metadata": {},
   "source": [
    "Let's try LogisticRegression:"
   ]
  },
  {
   "cell_type": "code",
   "execution_count": 47,
   "metadata": {
    "collapsed": true
   },
   "outputs": [],
   "source": [
    "def get_internal_score(clf, X, y, max_iter=50):\n",
    "    nb = np.unique(y).shape[0]\n",
    "    scores = np.zeros(nb+1)\n",
    "    for j in range(max_iter):\n",
    "        X_train, X_test, y_train, y_test = train_test_split(X, y, test_size=0.3)\n",
    "        clf.fit(X_train, y_train)\n",
    "        y_predict = clf.predict(X_test)\n",
    "        scores[0] += accuracy_score(y_test, y_predict)\n",
    "        for i in range(nb):\n",
    "            scores[i+1] += accuracy_score(1*(np.array(y_test) == i), \n",
    "                                         1*(np.array(y_predict) == i))\n",
    "            \n",
    "    return scores / max_iter"
   ]
  },
  {
   "cell_type": "code",
   "execution_count": 48,
   "metadata": {
    "collapsed": false
   },
   "outputs": [],
   "source": [
    "parameters = {'penalty': ['l1', 'l2'], \n",
    "              'class_weight': ['balanced', None], \n",
    "              'C': 10. ** np.arange(0, 5, 1)}\n",
    "clf = LogisticRegression()\n",
    "clf = GridSearchCV(clf, parameters)\n",
    "clf.fit(X_train, list(y_train))\n",
    "clf_lr = clf.best_estimator_\n",
    "scores = get_internal_score(clf_lr, X, list(y))"
   ]
  },
  {
   "cell_type": "code",
   "execution_count": 49,
   "metadata": {
    "collapsed": false
   },
   "outputs": [
    {
     "name": "stdout",
     "output_type": "stream",
     "text": [
      "                    all    Sitting    Jogging    Standing   Downstairs Upstairs   Walking    \n",
      "LogisticRegression: 0.567  0.984      0.785      0.946      0.900      0.875      0.645      \n"
     ]
    }
   ],
   "source": [
    "print(\"{:<20}{:<7}{:<11}{:<11}{:<11}{:<11}{:<11}{:<11}\".format(\"\", \"all\", *classes))\n",
    "print(\"{:<20}{:<7.3f}{:<11.3f}{:<11.3f}{:<11.3f}{:<11.3f}{:<11.3f}{:<11.3f}\".format(\"LogisticRegression:\", *scores))"
   ]
  },
  {
   "cell_type": "code",
   "execution_count": null,
   "metadata": {
    "collapsed": true
   },
   "outputs": [],
   "source": []
  }
 ],
 "metadata": {
  "anaconda-cloud": {},
  "kernelspec": {
   "display_name": "Python [conda env:py35]",
   "language": "python",
   "name": "conda-env-py35-py"
  },
  "language_info": {
   "codemirror_mode": {
    "name": "ipython",
    "version": 3
   },
   "file_extension": ".py",
   "mimetype": "text/x-python",
   "name": "python",
   "nbconvert_exporter": "python",
   "pygments_lexer": "ipython3",
   "version": "3.5.2"
  }
 },
 "nbformat": 4,
 "nbformat_minor": 2
}
